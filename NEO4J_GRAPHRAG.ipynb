{
  "nbformat": 4,
  "nbformat_minor": 0,
  "metadata": {
    "colab": {
      "provenance": [],
      "gpuType": "T4",
      "authorship_tag": "ABX9TyPjnXIIrhey4MFZ+GTXu67M",
      "include_colab_link": true
    },
    "kernelspec": {
      "name": "python3",
      "display_name": "Python 3"
    },
    "language_info": {
      "name": "python"
    },
    "accelerator": "GPU",
    "widgets": {
      "application/vnd.jupyter.widget-state+json": {
        "74b0b19176d849498c5271af7eaceb9a": {
          "model_module": "yfiles-jupyter-graphs",
          "model_name": "GraphModel",
          "model_module_version": "^1.8.1",
          "state": {
            "_context_pane_mapping": [
              {
                "id": "Neighborhood",
                "title": "Neighborhood"
              },
              {
                "id": "Data",
                "title": "Data"
              },
              {
                "id": "Search",
                "title": "Search"
              },
              {
                "id": "About",
                "title": "About"
              }
            ],
            "_data_importer": "neo4j",
            "_directed": true,
            "_dom_classes": [],
            "_edges": [
              {
                "id": 1152924803141730300,
                "start": 0,
                "end": 10,
                "properties": {
                  "label": "BASED_ON"
                },
                "label": "BASED_ON",
                "color": "#607D8B",
                "thickness_factor": 1,
                "directed": true
              },
              {
                "id": 1152921504606847000,
                "start": 1,
                "end": 0,
                "properties": {
                  "label": "PRODUCED"
                },
                "label": "PRODUCED",
                "color": "#673AB7",
                "thickness_factor": 1,
                "directed": true
              },
              {
                "id": 1155173304420532200,
                "start": 1,
                "end": 11,
                "properties": {
                  "label": "PRODUCED"
                },
                "label": "PRODUCED",
                "color": "#673AB7",
                "thickness_factor": 1,
                "directed": true
              },
              {
                "id": 1157425104234217500,
                "start": 1,
                "end": 58,
                "properties": {
                  "label": "PRODUCED"
                },
                "label": "PRODUCED",
                "color": "#673AB7",
                "thickness_factor": 1,
                "directed": true
              },
              {
                "id": 1159676904047902700,
                "start": 1,
                "end": 95,
                "properties": {
                  "label": "PRODUCED"
                },
                "label": "PRODUCED",
                "color": "#673AB7",
                "thickness_factor": 1,
                "directed": true
              },
              {
                "id": 1161928703861588000,
                "start": 1,
                "end": 119,
                "properties": {
                  "label": "PRODUCED"
                },
                "label": "PRODUCED",
                "color": "#673AB7",
                "thickness_factor": 1,
                "directed": true
              },
              {
                "id": 1164180503675273200,
                "start": 1,
                "end": 133,
                "properties": {
                  "label": "PRODUCED"
                },
                "label": "PRODUCED",
                "color": "#673AB7",
                "thickness_factor": 1,
                "directed": true
              },
              {
                "id": 1166432303488958500,
                "start": 1,
                "end": 138,
                "properties": {
                  "label": "PRODUCED"
                },
                "label": "PRODUCED",
                "color": "#673AB7",
                "thickness_factor": 1,
                "directed": true
              },
              {
                "id": 1168684103302643700,
                "start": 1,
                "end": 161,
                "properties": {
                  "label": "PRODUCED"
                },
                "label": "PRODUCED",
                "color": "#673AB7",
                "thickness_factor": 1,
                "directed": true
              },
              {
                "id": 1170935903116329000,
                "start": 1,
                "end": 162,
                "properties": {
                  "label": "PRODUCED"
                },
                "label": "PRODUCED",
                "color": "#673AB7",
                "thickness_factor": 1,
                "directed": true
              },
              {
                "id": 1173187702930014200,
                "start": 1,
                "end": 180,
                "properties": {
                  "label": "PRODUCED"
                },
                "label": "PRODUCED",
                "color": "#673AB7",
                "thickness_factor": 1,
                "directed": true
              },
              {
                "id": 1175439502743699500,
                "start": 1,
                "end": 188,
                "properties": {
                  "label": "PRODUCED"
                },
                "label": "PRODUCED",
                "color": "#673AB7",
                "thickness_factor": 1,
                "directed": true
              },
              {
                "id": 1177691302557384700,
                "start": 1,
                "end": 214,
                "properties": {
                  "label": "PRODUCED"
                },
                "label": "PRODUCED",
                "color": "#673AB7",
                "thickness_factor": 1,
                "directed": true
              },
              {
                "id": 1179943102371070000,
                "start": 1,
                "end": 217,
                "properties": {
                  "label": "PRODUCED"
                },
                "label": "PRODUCED",
                "color": "#673AB7",
                "thickness_factor": 1,
                "directed": true
              },
              {
                "id": 1182194902184755200,
                "start": 1,
                "end": 220,
                "properties": {
                  "label": "PRODUCED"
                },
                "label": "PRODUCED",
                "color": "#673AB7",
                "thickness_factor": 1,
                "directed": true
              },
              {
                "id": 1184446701998440400,
                "start": 1,
                "end": 237,
                "properties": {
                  "label": "PRODUCED"
                },
                "label": "PRODUCED",
                "color": "#673AB7",
                "thickness_factor": 1,
                "directed": true
              },
              {
                "id": 1186698501812125700,
                "start": 1,
                "end": 266,
                "properties": {
                  "label": "PRODUCED"
                },
                "label": "PRODUCED",
                "color": "#673AB7",
                "thickness_factor": 1,
                "directed": true
              },
              {
                "id": 1188950301625811000,
                "start": 1,
                "end": 282,
                "properties": {
                  "label": "PRODUCED"
                },
                "label": "PRODUCED",
                "color": "#673AB7",
                "thickness_factor": 1,
                "directed": true
              },
              {
                "id": 1191202101439496200,
                "start": 1,
                "end": 290,
                "properties": {
                  "label": "PRODUCED"
                },
                "label": "PRODUCED",
                "color": "#673AB7",
                "thickness_factor": 1,
                "directed": true
              },
              {
                "id": 1193453901253181400,
                "start": 1,
                "end": 294,
                "properties": {
                  "label": "PRODUCED"
                },
                "label": "PRODUCED",
                "color": "#673AB7",
                "thickness_factor": 1,
                "directed": true
              },
              {
                "id": 1195705701066866700,
                "start": 1,
                "end": 295,
                "properties": {
                  "label": "PRODUCED"
                },
                "label": "PRODUCED",
                "color": "#673AB7",
                "thickness_factor": 1,
                "directed": true
              },
              {
                "id": 1197957500880552000,
                "start": 1,
                "end": 307,
                "properties": {
                  "label": "PRODUCED"
                },
                "label": "PRODUCED",
                "color": "#673AB7",
                "thickness_factor": 1,
                "directed": true
              },
              {
                "id": 1200209300694237200,
                "start": 1,
                "end": 318,
                "properties": {
                  "label": "PRODUCED"
                },
                "label": "PRODUCED",
                "color": "#673AB7",
                "thickness_factor": 1,
                "directed": true
              },
              {
                "id": 1202461100507922400,
                "start": 1,
                "end": 320,
                "properties": {
                  "label": "PRODUCED"
                },
                "label": "PRODUCED",
                "color": "#673AB7",
                "thickness_factor": 1,
                "directed": true
              },
              {
                "id": 1204712900321607700,
                "start": 1,
                "end": 335,
                "properties": {
                  "label": "PRODUCED"
                },
                "label": "PRODUCED",
                "color": "#673AB7",
                "thickness_factor": 1,
                "directed": true
              },
              {
                "id": 1206964700135293000,
                "start": 1,
                "end": 348,
                "properties": {
                  "label": "PRODUCED"
                },
                "label": "PRODUCED",
                "color": "#673AB7",
                "thickness_factor": 1,
                "directed": true
              },
              {
                "id": 1209216499948978200,
                "start": 1,
                "end": 358,
                "properties": {
                  "label": "PRODUCED"
                },
                "label": "PRODUCED",
                "color": "#673AB7",
                "thickness_factor": 1,
                "directed": true
              },
              {
                "id": 1211468299762663400,
                "start": 1,
                "end": 371,
                "properties": {
                  "label": "PRODUCED"
                },
                "label": "PRODUCED",
                "color": "#673AB7",
                "thickness_factor": 1,
                "directed": true
              },
              {
                "id": 1213720099576348700,
                "start": 1,
                "end": 377,
                "properties": {
                  "label": "PRODUCED"
                },
                "label": "PRODUCED",
                "color": "#673AB7",
                "thickness_factor": 1,
                "directed": true
              },
              {
                "id": 1215971899390034000,
                "start": 1,
                "end": 399,
                "properties": {
                  "label": "PRODUCED"
                },
                "label": "PRODUCED",
                "color": "#673AB7",
                "thickness_factor": 1,
                "directed": true
              },
              {
                "id": 1218223699203719200,
                "start": 1,
                "end": 410,
                "properties": {
                  "label": "PRODUCED"
                },
                "label": "PRODUCED",
                "color": "#673AB7",
                "thickness_factor": 1,
                "directed": true
              },
              {
                "id": 1220475499017404400,
                "start": 1,
                "end": 420,
                "properties": {
                  "label": "PRODUCED"
                },
                "label": "PRODUCED",
                "color": "#673AB7",
                "thickness_factor": 1,
                "directed": true
              },
              {
                "id": 1222727298831089700,
                "start": 1,
                "end": 421,
                "properties": {
                  "label": "PRODUCED"
                },
                "label": "PRODUCED",
                "color": "#673AB7",
                "thickness_factor": 1,
                "directed": true
              },
              {
                "id": 1224979098644775000,
                "start": 1,
                "end": 424,
                "properties": {
                  "label": "PRODUCED"
                },
                "label": "PRODUCED",
                "color": "#673AB7",
                "thickness_factor": 1,
                "directed": true
              },
              {
                "id": 1227230898458460200,
                "start": 1,
                "end": 452,
                "properties": {
                  "label": "PRODUCED"
                },
                "label": "PRODUCED",
                "color": "#673AB7",
                "thickness_factor": 1,
                "directed": true
              },
              {
                "id": 1229482698272145400,
                "start": 1,
                "end": 470,
                "properties": {
                  "label": "PRODUCED"
                },
                "label": "PRODUCED",
                "color": "#673AB7",
                "thickness_factor": 1,
                "directed": true
              },
              {
                "id": 1231734498085830700,
                "start": 1,
                "end": 488,
                "properties": {
                  "label": "PRODUCED"
                },
                "label": "PRODUCED",
                "color": "#673AB7",
                "thickness_factor": 1,
                "directed": true
              },
              {
                "id": 1233986297899516000,
                "start": 1,
                "end": 498,
                "properties": {
                  "label": "PRODUCED"
                },
                "label": "PRODUCED",
                "color": "#673AB7",
                "thickness_factor": 1,
                "directed": true
              },
              {
                "id": 1236238097713201200,
                "start": 1,
                "end": 518,
                "properties": {
                  "label": "PRODUCED"
                },
                "label": "PRODUCED",
                "color": "#673AB7",
                "thickness_factor": 1,
                "directed": true
              },
              {
                "id": 1238489897526886400,
                "start": 1,
                "end": 531,
                "properties": {
                  "label": "PRODUCED"
                },
                "label": "PRODUCED",
                "color": "#673AB7",
                "thickness_factor": 1,
                "directed": true
              },
              {
                "id": 1240741697340571600,
                "start": 1,
                "end": 533,
                "properties": {
                  "label": "PRODUCED"
                },
                "label": "PRODUCED",
                "color": "#673AB7",
                "thickness_factor": 1,
                "directed": true
              },
              {
                "id": 1242993497154257000,
                "start": 1,
                "end": 541,
                "properties": {
                  "label": "PRODUCED"
                },
                "label": "PRODUCED",
                "color": "#673AB7",
                "thickness_factor": 1,
                "directed": true
              },
              {
                "id": 1245245296967942100,
                "start": 1,
                "end": 542,
                "properties": {
                  "label": "PRODUCED"
                },
                "label": "PRODUCED",
                "color": "#673AB7",
                "thickness_factor": 1,
                "directed": true
              },
              {
                "id": 1247497096781627400,
                "start": 1,
                "end": 543,
                "properties": {
                  "label": "PRODUCED"
                },
                "label": "PRODUCED",
                "color": "#673AB7",
                "thickness_factor": 1,
                "directed": true
              },
              {
                "id": 1249748896595312600,
                "start": 1,
                "end": 592,
                "properties": {
                  "label": "PRODUCED"
                },
                "label": "PRODUCED",
                "color": "#673AB7",
                "thickness_factor": 1,
                "directed": true
              },
              {
                "id": 1252000696408998000,
                "start": 1,
                "end": 597,
                "properties": {
                  "label": "PRODUCED"
                },
                "label": "PRODUCED",
                "color": "#673AB7",
                "thickness_factor": 1,
                "directed": true
              },
              {
                "id": 1254252496222683100,
                "start": 1,
                "end": 600,
                "properties": {
                  "label": "PRODUCED"
                },
                "label": "PRODUCED",
                "color": "#673AB7",
                "thickness_factor": 1,
                "directed": true
              },
              {
                "id": 1256504296036368400,
                "start": 1,
                "end": 622,
                "properties": {
                  "label": "PRODUCED"
                },
                "label": "PRODUCED",
                "color": "#673AB7",
                "thickness_factor": 1,
                "directed": true
              },
              {
                "id": 1258756095850053600,
                "start": 1,
                "end": 623,
                "properties": {
                  "label": "PRODUCED"
                },
                "label": "PRODUCED",
                "color": "#673AB7",
                "thickness_factor": 1,
                "directed": true
              },
              {
                "id": 1261007895663739000,
                "start": 1,
                "end": 630,
                "properties": {
                  "label": "PRODUCED"
                },
                "label": "PRODUCED",
                "color": "#673AB7",
                "thickness_factor": 1,
                "directed": true
              }
            ],
            "_graph_layout": {},
            "_highlight": [],
            "_license": {},
            "_model_module": "yfiles-jupyter-graphs",
            "_model_module_version": "^1.8.1",
            "_model_name": "GraphModel",
            "_neighborhood": {},
            "_nodes": [
              {
                "id": 0,
                "properties": {
                  "duration": "24 min. per ep.",
                  "score": 9.14,
                  "aired": "Sep 29, 2023 to Mar 2024",
                  "popularity": 505,
                  "premiered": "Fall 2023",
                  "rating": "PG-13 - Teens 13 or older",
                  "ranked": 1,
                  "id": "Sousou no FrierenFrieren: Beyond Journey's End",
                  "vote": 129040,
                  "episodes": 28,
                  "status": "Currently Airing",
                  "label": "Anime"
                },
                "color": "#2196F3",
                "styles": {},
                "label": "Sousou no FrierenFrieren: Beyond Journey's End",
                "scale_factor": 1,
                "type": "#2196F3",
                "size": [
                  55,
                  55
                ],
                "position": [
                  0,
                  0
                ]
              },
              {
                "id": 10,
                "properties": {
                  "name": "Manga",
                  "label": "Source"
                },
                "color": "#4CAF50",
                "styles": {},
                "label": "10",
                "scale_factor": 1,
                "type": "#4CAF50",
                "size": [
                  55,
                  55
                ],
                "position": [
                  0,
                  0
                ]
              },
              {
                "id": 1,
                "properties": {
                  "name": "['Aniplex'",
                  "label": "Producer"
                },
                "color": "#F44336",
                "styles": {},
                "label": "1",
                "scale_factor": 1,
                "type": "#F44336",
                "size": [
                  55,
                  55
                ],
                "position": [
                  0,
                  0
                ]
              },
              {
                "id": 11,
                "properties": {
                  "duration": "24 min. per ep.",
                  "score": 9.09,
                  "aired": "Apr 5, 2009 to Jul 4, 2010",
                  "popularity": 3,
                  "premiered": "Spring 2009",
                  "rating": "R - 17+ (violence & profanity)",
                  "ranked": 2,
                  "id": "Fullmetal Alchemist: Brotherhood",
                  "vote": 2080863,
                  "episodes": 64,
                  "status": "Finished Airing",
                  "label": "Anime"
                },
                "color": "#2196F3",
                "styles": {},
                "label": "Fullmetal Alchemist: Brotherhood",
                "scale_factor": 1,
                "type": "#2196F3",
                "size": [
                  55,
                  55
                ],
                "position": [
                  0,
                  0
                ]
              },
              {
                "id": 58,
                "properties": {
                  "duration": "23 min. per ep.",
                  "score": 9.03,
                  "aired": "Apr 9, 2022 to Jun 25, 2022",
                  "popularity": 185,
                  "premiered": "Spring 2022",
                  "rating": "PG-13 - Teens 13 or older",
                  "ranked": 11,
                  "id": "Kaguya-sama wa Kokurasetai: Ultra RomanticKaguya-sama: Love is War - Ultra Romantic",
                  "vote": 496818,
                  "episodes": 13,
                  "status": "Finished Airing",
                  "label": "Anime"
                },
                "color": "#2196F3",
                "styles": {},
                "label": "Kaguya-sama wa Kokurasetai: Ultra RomanticKaguya-sama: Love is War - Ultra Romantic",
                "scale_factor": 1,
                "type": "#2196F3",
                "size": [
                  55,
                  55
                ],
                "position": [
                  0,
                  0
                ]
              },
              {
                "id": 95,
                "properties": {
                  "duration": "25 min. per ep.",
                  "score": 8.92,
                  "aired": "Oct 14, 2017 to Mar 31, 2018",
                  "popularity": 564,
                  "premiered": "Fall 2017",
                  "rating": "PG-13 - Teens 13 or older",
                  "ranked": 19,
                  "id": "3-gatsu no Lion 2nd SeasonMarch Comes In Like a Lion 2nd Season",
                  "vote": 196278,
                  "episodes": 22,
                  "status": "Finished Airing",
                  "label": "Anime"
                },
                "color": "#2196F3",
                "styles": {},
                "label": "3-gatsu no Lion 2nd SeasonMarch Comes In Like a Lion 2nd Season",
                "scale_factor": 1,
                "type": "#2196F3",
                "size": [
                  55,
                  55
                ],
                "position": [
                  0,
                  0
                ]
              },
              {
                "id": 119,
                "properties": {
                  "duration": "22 min. per ep.",
                  "score": 8.87,
                  "aired": "Aug 12, 2017 to Aug 13, 2017",
                  "popularity": 570,
                  "premiered": "Summer 2017",
                  "rating": "R - 17+ (violence & profanity)",
                  "ranked": 26,
                  "id": "Owarimonogatari 2nd SeasonOwarimonogatari Second Season",
                  "vote": 188713,
                  "episodes": 7,
                  "status": "Finished Airing",
                  "label": "Anime"
                },
                "color": "#2196F3",
                "styles": {},
                "label": "Owarimonogatari 2nd SeasonOwarimonogatari Second Season",
                "scale_factor": 1,
                "type": "#2196F3",
                "size": [
                  55,
                  55
                ],
                "position": [
                  0,
                  0
                ]
              },
              {
                "id": 133,
                "properties": {
                  "duration": "23 min. per ep.",
                  "score": 8.81,
                  "aired": "Oct 9, 2022 to Dec 25, 2022",
                  "popularity": 417,
                  "premiered": "Fall 2022",
                  "rating": "PG-13 - Teens 13 or older",
                  "ranked": 29,
                  "id": "Bocchi the Rock!",
                  "vote": 306796,
                  "episodes": 12,
                  "status": "Finished Airing",
                  "label": "Anime"
                },
                "color": "#2196F3",
                "styles": {},
                "label": "Bocchi the Rock!",
                "scale_factor": 1,
                "type": "#2196F3",
                "size": [
                  55,
                  55
                ],
                "position": [
                  0,
                  0
                ]
              },
              {
                "id": 138,
                "properties": {
                  "duration": "1 hr. 36 min.",
                  "score": 8.8,
                  "aired": "Dec 17, 2022",
                  "popularity": 1000,
                  "rating": "PG-13 - Teens 13 or older",
                  "ranked": 35,
                  "id": "Kaguya-sama wa Kokurasetai: First Kiss wa OwaranaiKaguya-sama: Love is War - The First Kiss That Never Ends",
                  "vote": 123039,
                  "episodes": 1,
                  "status": "Finished Airing",
                  "label": "Anime"
                },
                "color": "#2196F3",
                "styles": {},
                "label": "Kaguya-sama wa Kokurasetai: First Kiss wa OwaranaiKaguya-sama: Love is War - The First Kiss That Never Ends",
                "scale_factor": 1,
                "type": "#2196F3",
                "size": [
                  55,
                  55
                ],
                "position": [
                  0,
                  0
                ]
              },
              {
                "id": 161,
                "properties": {
                  "duration": "1 hr. 23 min.",
                  "score": 8.78,
                  "aired": "Jan 6, 2017",
                  "popularity": 481,
                  "rating": "R - 17+ (violence & profanity)",
                  "ranked": 37,
                  "id": "Kizumonogatari III: Reiketsu-henKizumonogatari Part 3: Cold-Blooded",
                  "vote": 263710,
                  "episodes": 1,
                  "status": "Finished Airing",
                  "label": "Anime"
                },
                "color": "#2196F3",
                "styles": {},
                "label": "Kizumonogatari III: Reiketsu-henKizumonogatari Part 3: Cold-Blooded",
                "scale_factor": 1,
                "type": "#2196F3",
                "size": [
                  55,
                  55
                ],
                "position": [
                  0,
                  0
                ]
              },
              {
                "id": 162,
                "properties": {
                  "duration": "26 min. per ep.",
                  "score": 8.77,
                  "aired": "Dec 5, 2021 to Feb 13, 2022",
                  "popularity": 92,
                  "premiered": "Winter 2022",
                  "rating": "R - 17+ (violence & profanity)",
                  "ranked": 40,
                  "id": "Kimetsu no Yaiba: Yuukaku-henDemon Slayer: Kimetsu no Yaiba Entertainment District Arc",
                  "vote": 859671,
                  "episodes": 11,
                  "status": "Finished Airing",
                  "label": "Anime"
                },
                "color": "#2196F3",
                "styles": {},
                "label": "Kimetsu no Yaiba: Yuukaku-henDemon Slayer: Kimetsu no Yaiba Entertainment District Arc",
                "scale_factor": 1,
                "type": "#2196F3",
                "size": [
                  55,
                  55
                ],
                "position": [
                  0,
                  0
                ]
              },
              {
                "id": 180,
                "properties": {
                  "duration": "25 min. per ep.",
                  "score": 8.76,
                  "aired": "Jul 7, 2013 to Dec 29, 2013",
                  "popularity": 301,
                  "premiered": "Summer 2013",
                  "rating": "R - 17+ (violence & profanity)",
                  "ranked": 43,
                  "id": "Monogatari Series: Second Season",
                  "vote": 353076,
                  "episodes": 26,
                  "status": "Finished Airing",
                  "label": "Anime"
                },
                "color": "#2196F3",
                "styles": {},
                "label": "Monogatari Series: Second Season",
                "scale_factor": 1,
                "type": "#2196F3",
                "size": [
                  55,
                  55
                ],
                "position": [
                  0,
                  0
                ]
              },
              {
                "id": 188,
                "properties": {
                  "duration": "23 min. per ep.",
                  "score": 8.73,
                  "aired": "Oct 19, 2014 to Dec 21, 2014",
                  "popularity": 902,
                  "premiered": "Fall 2014",
                  "rating": "PG-13 - Teens 13 or older",
                  "ranked": 48,
                  "id": "Mushishi Zoku Shou 2nd SeasonMushi-shi: Next Passage Part 2",
                  "vote": 104541,
                  "episodes": 10,
                  "status": "Finished Airing",
                  "label": "Anime"
                },
                "color": "#2196F3",
                "styles": {},
                "label": "Mushishi Zoku Shou 2nd SeasonMushi-shi: Next Passage Part 2",
                "scale_factor": 1,
                "type": "#2196F3",
                "size": [
                  55,
                  55
                ],
                "position": [
                  0,
                  0
                ]
              },
              {
                "id": 214,
                "properties": {
                  "duration": "23 min. per ep.",
                  "score": 8.7,
                  "aired": "Oct 3, 2021 to Mar 19, 2022",
                  "popularity": 462,
                  "premiered": "Fall 2021",
                  "rating": "R - 17+ (violence & profanity)",
                  "ranked": 55,
                  "id": "86 Part 286 Eighty-Six Part 2",
                  "vote": 265438,
                  "episodes": 12,
                  "status": "Finished Airing",
                  "label": "Anime"
                },
                "color": "#2196F3",
                "styles": {},
                "label": "86 Part 286 Eighty-Six Part 2",
                "scale_factor": 1,
                "type": "#2196F3",
                "size": [
                  55,
                  55
                ],
                "position": [
                  0,
                  0
                ]
              },
              {
                "id": 217,
                "properties": {
                  "duration": "25 min. per ep.",
                  "score": 8.69,
                  "aired": "Jun 30, 1999 to Sep 17, 2000",
                  "popularity": 217,
                  "premiered": "Summer 1999",
                  "rating": "R - 17+ (violence & profanity)",
                  "ranked": 59,
                  "id": "Great Teacher Onizuka",
                  "vote": 399447,
                  "episodes": 43,
                  "status": "Finished Airing",
                  "label": "Anime"
                },
                "color": "#2196F3",
                "styles": {},
                "label": "Great Teacher Onizuka",
                "scale_factor": 1,
                "type": "#2196F3",
                "size": [
                  55,
                  55
                ],
                "position": [
                  0,
                  0
                ]
              },
              {
                "id": 220,
                "properties": {
                  "duration": "24 min. per ep.",
                  "score": 8.69,
                  "aired": "Apr 5, 2014 to Jun 21, 2014",
                  "popularity": 790,
                  "premiered": "Spring 2014",
                  "rating": "PG-13 - Teens 13 or older",
                  "ranked": 58,
                  "id": "Mushishi Zoku ShouMushi-shi: Next Passage Part 1",
                  "vote": 117036,
                  "episodes": 10,
                  "status": "Finished Airing",
                  "label": "Anime"
                },
                "color": "#2196F3",
                "styles": {},
                "label": "Mushishi Zoku ShouMushi-shi: Next Passage Part 1",
                "scale_factor": 1,
                "type": "#2196F3",
                "size": [
                  55,
                  55
                ],
                "position": [
                  0,
                  0
                ]
              },
              {
                "id": 237,
                "properties": {
                  "duration": "2 hr. 2 min.",
                  "score": 8.67,
                  "aired": "Aug 15, 2020",
                  "popularity": 675,
                  "rating": "R - 17+ (violence & profanity)",
                  "ranked": 65,
                  "id": "Fate/stay night Movie: Heaven's Feel - III. Spring SongFate/stay night: Heaven's Feel - III. Spring Song",
                  "vote": 181864,
                  "episodes": 1,
                  "status": "Finished Airing",
                  "label": "Anime"
                },
                "color": "#2196F3",
                "styles": {},
                "label": "Fate/stay night Movie: Heaven's Feel - III. Spring SongFate/stay night: Heaven's Feel - III. Spring Song",
                "scale_factor": 1,
                "type": "#2196F3",
                "size": [
                  55,
                  55
                ],
                "position": [
                  0,
                  0
                ]
              },
              {
                "id": 266,
                "properties": {
                  "duration": "22 min. per ep.",
                  "score": 8.65,
                  "aired": "Oct 10, 2014 to Mar 20, 2015",
                  "popularity": 24,
                  "premiered": "Fall 2014",
                  "rating": "PG-13 - Teens 13 or older",
                  "ranked": 71,
                  "id": "Shigatsu wa Kimi no UsoYour Lie in April",
                  "vote": 1325834,
                  "episodes": 22,
                  "status": "Finished Airing",
                  "label": "Anime"
                },
                "color": "#2196F3",
                "styles": {},
                "label": "Shigatsu wa Kimi no UsoYour Lie in April",
                "scale_factor": 1,
                "type": "#2196F3",
                "size": [
                  55,
                  55
                ],
                "position": [
                  0,
                  0
                ]
              },
              {
                "id": 282,
                "properties": {
                  "duration": "24 min. per ep.",
                  "score": 8.63,
                  "aired": "Apr 11, 2020 to Jun 27, 2020",
                  "popularity": 98,
                  "premiered": "Spring 2020",
                  "rating": "PG-13 - Teens 13 or older",
                  "ranked": 75,
                  "id": "Kaguya-sama wa Kokurasetai? Tensai-tachi no Renai ZunousenKaguya-sama: Love is War Season 2",
                  "vote": 840018,
                  "episodes": 12,
                  "status": "Finished Airing",
                  "label": "Anime"
                },
                "color": "#2196F3",
                "styles": {},
                "label": "Kaguya-sama wa Kokurasetai? Tensai-tachi no Renai ZunousenKaguya-sama: Love is War Season 2",
                "scale_factor": 1,
                "type": "#2196F3",
                "size": [
                  55,
                  55
                ],
                "position": [
                  0,
                  0
                ]
              },
              {
                "id": 290,
                "properties": {
                  "duration": "23 min. per ep.",
                  "score": 8.62,
                  "aired": "Apr 11, 2014 to Jun 20, 2014",
                  "popularity": 585,
                  "premiered": "Spring 2014",
                  "rating": "PG-13 - Teens 13 or older",
                  "ranked": 79,
                  "id": "Ping Pong the Animation",
                  "vote": 180942,
                  "episodes": 11,
                  "status": "Finished Airing",
                  "label": "Anime"
                },
                "color": "#2196F3",
                "styles": {},
                "label": "Ping Pong the Animation",
                "scale_factor": 1,
                "type": "#2196F3",
                "size": [
                  55,
                  55
                ],
                "position": [
                  0,
                  0
                ]
              },
              {
                "id": 294,
                "properties": {
                  "duration": "1 hr. 56 min.",
                  "score": 8.6,
                  "aired": "Oct 16, 2020",
                  "popularity": 73,
                  "rating": "R - 17+ (violence & profanity)",
                  "ranked": 86,
                  "id": "Kimetsu no Yaiba Movie: Mugen Ressha-henDemon Slayer: Kimetsu no Yaiba - The Movie: Mugen Train",
                  "vote": 987198,
                  "episodes": 1,
                  "status": "Finished Airing",
                  "label": "Anime"
                },
                "color": "#2196F3",
                "styles": {},
                "label": "Kimetsu no Yaiba Movie: Mugen Ressha-henDemon Slayer: Kimetsu no Yaiba - The Movie: Mugen Train",
                "scale_factor": 1,
                "type": "#2196F3",
                "size": [
                  55,
                  55
                ],
                "position": [
                  0,
                  0
                ]
              },
              {
                "id": 295,
                "properties": {
                  "duration": "1 hr. 30 min.",
                  "score": 8.6,
                  "aired": "Jun 15, 2019",
                  "popularity": 282,
                  "rating": "PG-13 - Teens 13 or older",
                  "ranked": 87,
                  "id": "Seishun Buta Yarou wa Yumemiru Shoujo no Yume wo MinaiRascal Does Not Dream of a Dreaming Girl",
                  "vote": 439854,
                  "episodes": 1,
                  "status": "Finished Airing",
                  "label": "Anime"
                },
                "color": "#2196F3",
                "styles": {},
                "label": "Seishun Buta Yarou wa Yumemiru Shoujo no Yume wo MinaiRascal Does Not Dream of a Dreaming Girl",
                "scale_factor": 1,
                "type": "#2196F3",
                "size": [
                  55,
                  55
                ],
                "position": [
                  0,
                  0
                ]
              },
              {
                "id": 307,
                "properties": {
                  "duration": "47 min.",
                  "score": 8.59,
                  "aired": "May 16, 2015",
                  "popularity": 1714,
                  "rating": "PG-13 - Teens 13 or older",
                  "ranked": 89,
                  "id": "Mushishi Zoku Shou: Suzu no Shizuku",
                  "vote": 50195,
                  "episodes": 1,
                  "status": "Finished Airing",
                  "label": "Anime"
                },
                "color": "#2196F3",
                "styles": {},
                "label": "Mushishi Zoku Shou: Suzu no Shizuku",
                "scale_factor": 1,
                "type": "#2196F3",
                "size": [
                  55,
                  55
                ],
                "position": [
                  0,
                  0
                ]
              },
              {
                "id": 318,
                "properties": {
                  "duration": "1 hr. 4 min.",
                  "score": 8.57,
                  "aired": "Aug 19, 2016",
                  "popularity": 502,
                  "rating": "R - 17+ (violence & profanity)",
                  "ranked": 93,
                  "id": "Kizumonogatari II: Nekketsu-henKizumonogatari Part 2: Hot-Blooded",
                  "vote": 264680,
                  "episodes": 1,
                  "status": "Finished Airing",
                  "label": "Anime"
                },
                "color": "#2196F3",
                "styles": {},
                "label": "Kizumonogatari II: Nekketsu-henKizumonogatari Part 2: Hot-Blooded",
                "scale_factor": 1,
                "type": "#2196F3",
                "size": [
                  55,
                  55
                ],
                "position": [
                  0,
                  0
                ]
              },
              {
                "id": 320,
                "properties": {
                  "duration": "24 min. per ep.",
                  "score": 8.57,
                  "aired": "Jul 5, 2011 to Sep 27, 2011",
                  "popularity": 942,
                  "premiered": "Summer 2011",
                  "rating": "PG-13 - Teens 13 or older",
                  "ranked": 95,
                  "id": "Natsume Yuujinchou SanNatsume's Book of Friends Season 3",
                  "vote": 116539,
                  "episodes": 13,
                  "status": "Finished Airing",
                  "label": "Anime"
                },
                "color": "#2196F3",
                "styles": {},
                "label": "Natsume Yuujinchou SanNatsume's Book of Friends Season 3",
                "scale_factor": 1,
                "type": "#2196F3",
                "size": [
                  55,
                  55
                ],
                "position": [
                  0,
                  0
                ]
              },
              {
                "id": 335,
                "properties": {
                  "duration": "1 hr. 48 min.",
                  "score": 8.55,
                  "aired": "Sep 1, 2018",
                  "popularity": 161,
                  "rating": "PG-13 - Teens 13 or older",
                  "ranked": 106,
                  "id": "Kimi no Suizou wo TabetaiI Want To Eat Your Pancreas",
                  "vote": 562079,
                  "episodes": 1,
                  "status": "Finished Airing",
                  "label": "Anime"
                },
                "color": "#2196F3",
                "styles": {},
                "label": "Kimi no Suizou wo TabetaiI Want To Eat Your Pancreas",
                "scale_factor": 1,
                "type": "#2196F3",
                "size": [
                  55,
                  55
                ],
                "position": [
                  0,
                  0
                ]
              },
              {
                "id": 348,
                "properties": {
                  "duration": "24 min. per ep.",
                  "score": 8.55,
                  "aired": "Apr 8, 2012 to Jun 24, 2012",
                  "popularity": 130,
                  "premiered": "Spring 2012",
                  "rating": "R - 17+ (violence & profanity)",
                  "ranked": 103,
                  "id": "Fate/Zero 2nd SeasonFate/Zero Season 2",
                  "vote": 702263,
                  "episodes": 12,
                  "status": "Finished Airing",
                  "label": "Anime"
                },
                "color": "#2196F3",
                "styles": {},
                "label": "Fate/Zero 2nd SeasonFate/Zero Season 2",
                "scale_factor": 1,
                "type": "#2196F3",
                "size": [
                  55,
                  55
                ],
                "position": [
                  0,
                  0
                ]
              },
              {
                "id": 358,
                "properties": {
                  "duration": "24 min. per ep.",
                  "score": 8.54,
                  "aired": "Jan 6, 2009 to Mar 31, 2009",
                  "popularity": 959,
                  "premiered": "Winter 2009",
                  "rating": "PG-13 - Teens 13 or older",
                  "ranked": 112,
                  "id": "Zoku Natsume YuujinchouNatsume's Book of Friends Season 2",
                  "vote": 123829,
                  "episodes": 13,
                  "status": "Finished Airing",
                  "label": "Anime"
                },
                "color": "#2196F3",
                "styles": {},
                "label": "Zoku Natsume YuujinchouNatsume's Book of Friends Season 2",
                "scale_factor": 1,
                "type": "#2196F3",
                "size": [
                  55,
                  55
                ],
                "position": [
                  0,
                  0
                ]
              },
              {
                "id": 371,
                "properties": {
                  "duration": "45 min.",
                  "score": 8.53,
                  "aired": "Jan 4, 2014",
                  "popularity": 1600,
                  "rating": "PG-13 - Teens 13 or older",
                  "ranked": 115,
                  "id": "Mushishi: HihamukageMushi-shi: The Shadow that Devours the Sun",
                  "vote": 66254,
                  "episodes": 1,
                  "status": "Finished Airing",
                  "label": "Anime"
                },
                "color": "#2196F3",
                "styles": {},
                "label": "Mushishi: HihamukageMushi-shi: The Shadow that Devours the Sun",
                "scale_factor": 1,
                "type": "#2196F3",
                "size": [
                  55,
                  55
                ],
                "position": [
                  0,
                  0
                ]
              },
              {
                "id": 377,
                "properties": {
                  "duration": "22 min. per ep.",
                  "score": 8.52,
                  "aired": "Oct 15, 2021 to Mar 25, 2022",
                  "popularity": 336,
                  "premiered": "Fall 2021",
                  "rating": "PG-13 - Teens 13 or older",
                  "ranked": 123,
                  "id": "Ousama RankingRanking of Kings",
                  "vote": 325086,
                  "episodes": 23,
                  "status": "Finished Airing",
                  "label": "Anime"
                },
                "color": "#2196F3",
                "styles": {},
                "label": "Ousama RankingRanking of Kings",
                "scale_factor": 1,
                "type": "#2196F3",
                "size": [
                  55,
                  55
                ],
                "position": [
                  0,
                  0
                ]
              },
              {
                "id": 399,
                "properties": {
                  "duration": "22 min. per ep.",
                  "score": 8.5,
                  "aired": "Jan 10, 2019 to Mar 29, 2019",
                  "popularity": 38,
                  "premiered": "Winter 2019",
                  "rating": "R - 17+ (violence & profanity)",
                  "ranked": 129,
                  "id": "Yakusoku no NeverlandThe Promised Neverland",
                  "vote": 1261993,
                  "episodes": 12,
                  "status": "Finished Airing",
                  "label": "Anime"
                },
                "color": "#2196F3",
                "styles": {},
                "label": "Yakusoku no NeverlandThe Promised Neverland",
                "scale_factor": 1,
                "type": "#2196F3",
                "size": [
                  55,
                  55
                ],
                "position": [
                  0,
                  0
                ]
              },
              {
                "id": 410,
                "properties": {
                  "duration": "1 hr. 57 min.",
                  "score": 8.49,
                  "aired": "Jan 12, 2019",
                  "popularity": 595,
                  "rating": "R - 17+ (violence & profanity)",
                  "ranked": 133,
                  "id": "Fate/stay night Movie: Heaven's Feel - II. Lost ButterflyFate/stay night: Heaven's Feel - II. Lost Butterfly",
                  "vote": 223230,
                  "episodes": 1,
                  "status": "Finished Airing",
                  "label": "Anime"
                },
                "color": "#2196F3",
                "styles": {},
                "label": "Fate/stay night Movie: Heaven's Feel - II. Lost ButterflyFate/stay night: Heaven's Feel - II. Lost Butterfly",
                "scale_factor": 1,
                "type": "#2196F3",
                "size": [
                  55,
                  55
                ],
                "position": [
                  0,
                  0
                ]
              },
              {
                "id": 420,
                "properties": {
                  "duration": "23 min. per ep.",
                  "score": 8.48,
                  "aired": "Apr 6, 2019 to Sep 28, 2019",
                  "popularity": 7,
                  "premiered": "Spring 2019",
                  "rating": "R - 17+ (violence & profanity)",
                  "ranked": 136,
                  "id": "Kimetsu no YaibaDemon Slayer: Kimetsu no Yaiba",
                  "vote": 2036434,
                  "episodes": 26,
                  "status": "Finished Airing",
                  "label": "Anime"
                },
                "color": "#2196F3",
                "styles": {},
                "label": "Kimetsu no YaibaDemon Slayer: Kimetsu no Yaiba",
                "scale_factor": 1,
                "type": "#2196F3",
                "size": [
                  55,
                  55
                ],
                "position": [
                  0,
                  0
                ]
              },
              {
                "id": 421,
                "properties": {
                  "duration": "1 hr. 56 min.",
                  "score": 8.48,
                  "aired": "Oct 26, 2013",
                  "popularity": 611,
                  "rating": "PG-13 - Teens 13 or older",
                  "ranked": 137,
                  "id": "Mahou Shoujo Madoka★Magica Movie 3: Hangyaku no MonogatariPuella Magi Madoka Magica the Movie: Rebellion",
                  "vote": 222115,
                  "episodes": 1,
                  "status": "Finished Airing",
                  "label": "Anime"
                },
                "color": "#2196F3",
                "styles": {},
                "label": "Mahou Shoujo Madoka★Magica Movie 3: Hangyaku no MonogatariPuella Magi Madoka Magica the Movie: Rebellion",
                "scale_factor": 1,
                "type": "#2196F3",
                "size": [
                  55,
                  55
                ],
                "position": [
                  0,
                  0
                ]
              },
              {
                "id": 424,
                "properties": {
                  "duration": "22 min. per ep.",
                  "score": 8.47,
                  "aired": "Jul 6, 2018 to Dec 21, 2018",
                  "popularity": 203,
                  "premiered": "Summer 2018",
                  "rating": "R - 17+ (violence & profanity)",
                  "ranked": 140,
                  "id": "Banana Fish",
                  "vote": 363770,
                  "episodes": 24,
                  "status": "Finished Airing",
                  "label": "Anime"
                },
                "color": "#2196F3",
                "styles": {},
                "label": "Banana Fish",
                "scale_factor": 1,
                "type": "#2196F3",
                "size": [
                  55,
                  55
                ],
                "position": [
                  0,
                  0
                ]
              },
              {
                "id": 452,
                "properties": {
                  "duration": "28 min. per ep.",
                  "score": 8.44,
                  "aired": "May 19, 2019 to Jun 23, 2019",
                  "popularity": 1064,
                  "premiered": "Spring 2019",
                  "rating": "R - 17+ (violence & profanity)",
                  "ranked": 154,
                  "id": "Zoku Owarimonogatari",
                  "vote": 104786,
                  "episodes": 6,
                  "status": "Finished Airing",
                  "label": "Anime"
                },
                "color": "#2196F3",
                "styles": {},
                "label": "Zoku Owarimonogatari",
                "scale_factor": 1,
                "type": "#2196F3",
                "size": [
                  55,
                  55
                ],
                "position": [
                  0,
                  0
                ]
              },
              {
                "id": 470,
                "properties": {
                  "duration": "47 min.",
                  "score": 8.43,
                  "aired": "Aug 20, 2014",
                  "popularity": 2030,
                  "rating": "PG-13 - Teens 13 or older",
                  "ranked": 159,
                  "id": "Mushishi Zoku Shou: Odoro no MichiMushishi Path of Thorns",
                  "vote": 48849,
                  "episodes": 1,
                  "status": "Finished Airing",
                  "label": "Anime"
                },
                "color": "#2196F3",
                "styles": {},
                "label": "Mushishi Zoku Shou: Odoro no MichiMushishi Path of Thorns",
                "scale_factor": 1,
                "type": "#2196F3",
                "size": [
                  55,
                  55
                ],
                "position": [
                  0,
                  0
                ]
              },
              {
                "id": 488,
                "properties": {
                  "duration": "25 min. per ep.",
                  "score": 8.41,
                  "aired": "Jan 12, 2019 to Mar 30, 2019",
                  "popularity": 54,
                  "premiered": "Winter 2019",
                  "rating": "PG-13 - Teens 13 or older",
                  "ranked": 174,
                  "id": "Kaguya-sama wa Kokurasetai: Tensai-tachi no Renai ZunousenKaguya-sama: Love is War",
                  "vote": 1071664,
                  "episodes": 12,
                  "status": "Finished Airing",
                  "label": "Anime"
                },
                "color": "#2196F3",
                "styles": {},
                "label": "Kaguya-sama wa Kokurasetai: Tensai-tachi no Renai ZunousenKaguya-sama: Love is War",
                "scale_factor": 1,
                "type": "#2196F3",
                "size": [
                  55,
                  55
                ],
                "position": [
                  0,
                  0
                ]
              },
              {
                "id": 498,
                "properties": {
                  "duration": "25 min. per ep.",
                  "score": 8.4,
                  "aired": "Jul 9, 2018 to Oct 6, 2018",
                  "popularity": 1044,
                  "rating": "R - 17+ (violence & profanity)",
                  "ranked": 177,
                  "id": "Mo Dao Zu ShiThe Founder of Diabolism Season 1",
                  "vote": 77210,
                  "episodes": 15,
                  "status": "Finished Airing",
                  "label": "Anime"
                },
                "color": "#2196F3",
                "styles": {},
                "label": "Mo Dao Zu ShiThe Founder of Diabolism Season 1",
                "scale_factor": 1,
                "type": "#2196F3",
                "size": [
                  55,
                  55
                ],
                "position": [
                  0,
                  0
                ]
              },
              {
                "id": 518,
                "properties": {
                  "duration": "25 min. per ep.",
                  "score": 8.38,
                  "aired": "Oct 8, 2016 to Mar 18, 2017",
                  "popularity": 295,
                  "premiered": "Fall 2016",
                  "rating": "PG-13 - Teens 13 or older",
                  "ranked": 188,
                  "id": "3-gatsu no LionMarch Comes In Like a Lion",
                  "vote": 277463,
                  "episodes": 22,
                  "status": "Finished Airing",
                  "label": "Anime"
                },
                "color": "#2196F3",
                "styles": {},
                "label": "3-gatsu no LionMarch Comes In Like a Lion",
                "scale_factor": 1,
                "type": "#2196F3",
                "size": [
                  55,
                  55
                ],
                "position": [
                  0,
                  0
                ]
              },
              {
                "id": 531,
                "properties": {
                  "duration": "24 min. per ep.",
                  "score": 8.38,
                  "aired": "Oct 10, 2021 to Nov 28, 2021",
                  "popularity": 278,
                  "premiered": "Fall 2021",
                  "rating": "R - 17+ (violence & profanity)",
                  "ranked": 186,
                  "id": "Kimetsu no Yaiba: Mugen Ressha-henDemon Slayer: Kimetsu no Yaiba Mugen Train Arc",
                  "vote": 423231,
                  "episodes": 7,
                  "status": "Finished Airing",
                  "label": "Anime"
                },
                "color": "#2196F3",
                "styles": {},
                "label": "Kimetsu no Yaiba: Mugen Ressha-henDemon Slayer: Kimetsu no Yaiba Mugen Train Arc",
                "scale_factor": 1,
                "type": "#2196F3",
                "size": [
                  55,
                  55
                ],
                "position": [
                  0,
                  0
                ]
              },
              {
                "id": 533,
                "properties": {
                  "duration": "1 hr. 49 min.",
                  "score": 8.37,
                  "aired": "Oct 13, 2012",
                  "popularity": 1159,
                  "rating": "PG-13 - Teens 13 or older",
                  "ranked": 194,
                  "id": "Mahou Shoujo Madoka★Magica Movie 2: Eien no MonogatariPuella Magi Madoka Magica the Movie Part 2: Eternal",
                  "vote": 99545,
                  "episodes": 1,
                  "status": "Finished Airing",
                  "label": "Anime"
                },
                "color": "#2196F3",
                "styles": {},
                "label": "Mahou Shoujo Madoka★Magica Movie 2: Eien no MonogatariPuella Magi Madoka Magica the Movie Part 2: Eternal",
                "scale_factor": 1,
                "type": "#2196F3",
                "size": [
                  55,
                  55
                ],
                "position": [
                  0,
                  0
                ]
              },
              {
                "id": 541,
                "properties": {
                  "duration": "1 hr. 4 min.",
                  "score": 8.36,
                  "aired": "Jan 8, 2016",
                  "popularity": 413,
                  "rating": "R - 17+ (violence & profanity)",
                  "ranked": 198,
                  "id": "Kizumonogatari I: Tekketsu-henKizumonogatari Part 1: Iron-Blooded",
                  "vote": 279627,
                  "episodes": 1,
                  "status": "Finished Airing",
                  "label": "Anime"
                },
                "color": "#2196F3",
                "styles": {},
                "label": "Kizumonogatari I: Tekketsu-henKizumonogatari Part 1: Iron-Blooded",
                "scale_factor": 1,
                "type": "#2196F3",
                "size": [
                  55,
                  55
                ],
                "position": [
                  0,
                  0
                ]
              },
              {
                "id": 542,
                "properties": {
                  "duration": "24 min. per ep.",
                  "score": 8.36,
                  "aired": "Jan 7, 2011 to Apr 22, 2011",
                  "popularity": 101,
                  "premiered": "Winter 2011",
                  "rating": "PG-13 - Teens 13 or older",
                  "ranked": 199,
                  "id": "Mahou Shoujo Madoka★MagicaPuella Magi Madoka Magica",
                  "vote": 741674,
                  "episodes": 12,
                  "status": "Finished Airing",
                  "label": "Anime"
                },
                "color": "#2196F3",
                "styles": {},
                "label": "Mahou Shoujo Madoka★MagicaPuella Magi Madoka Magica",
                "scale_factor": 1,
                "type": "#2196F3",
                "size": [
                  55,
                  55
                ],
                "position": [
                  0,
                  0
                ]
              },
              {
                "id": 543,
                "properties": {
                  "duration": "24 min. per ep.",
                  "score": 8.36,
                  "aired": "Jul 27, 2007 to Nov 2, 2007",
                  "popularity": 183,
                  "premiered": "Summer 2007",
                  "rating": "R - 17+ (violence & profanity)",
                  "ranked": 200,
                  "id": "Baccano!",
                  "vote": 378618,
                  "episodes": 13,
                  "status": "Finished Airing",
                  "label": "Anime"
                },
                "color": "#2196F3",
                "styles": {},
                "label": "Baccano!",
                "scale_factor": 1,
                "type": "#2196F3",
                "size": [
                  55,
                  55
                ],
                "position": [
                  0,
                  0
                ]
              },
              {
                "id": 592,
                "properties": {
                  "duration": "22 min.",
                  "score": 8.33,
                  "aired": "Feb 5, 2014",
                  "popularity": 2342,
                  "rating": "PG-13 - Teens 13 or older",
                  "ranked": 219,
                  "id": "Natsume Yuujinchou: Itsuka Yuki no Hi niNatsume’s Book of Friends: On a Certain Snowy Day",
                  "vote": 35496,
                  "episodes": 1,
                  "status": "Finished Airing",
                  "label": "Anime"
                },
                "color": "#2196F3",
                "styles": {},
                "label": "Natsume Yuujinchou: Itsuka Yuki no Hi niNatsume’s Book of Friends: On a Certain Snowy Day",
                "scale_factor": 1,
                "type": "#2196F3",
                "size": [
                  55,
                  55
                ],
                "position": [
                  0,
                  0
                ]
              },
              {
                "id": 597,
                "properties": {
                  "duration": "25 min. per ep.",
                  "score": 8.33,
                  "aired": "Jul 3, 2009 to Jun 25, 2010",
                  "popularity": 90,
                  "premiered": "Summer 2009",
                  "rating": "R - 17+ (violence & profanity)",
                  "ranked": 224,
                  "id": "Bakemonogatari",
                  "vote": 723116,
                  "episodes": 15,
                  "status": "Finished Airing",
                  "label": "Anime"
                },
                "color": "#2196F3",
                "styles": {},
                "label": "Bakemonogatari",
                "scale_factor": 1,
                "type": "#2196F3",
                "size": [
                  55,
                  55
                ],
                "position": [
                  0,
                  0
                ]
              },
              {
                "id": 600,
                "properties": {
                  "duration": "2 hr. 1 min.",
                  "score": 8.33,
                  "aired": "Nov 11, 2022",
                  "popularity": 756,
                  "rating": "PG-13 - Teens 13 or older",
                  "ranked": 226,
                  "id": "Suzume no TojimariSuzume",
                  "vote": 147306,
                  "episodes": 1,
                  "status": "Finished Airing",
                  "label": "Anime"
                },
                "color": "#2196F3",
                "styles": {},
                "label": "Suzume no TojimariSuzume",
                "scale_factor": 1,
                "type": "#2196F3",
                "size": [
                  55,
                  55
                ],
                "position": [
                  0,
                  0
                ]
              },
              {
                "id": 622,
                "properties": {
                  "duration": "24 min. per ep.",
                  "score": 8.32,
                  "aired": "Apr 5, 2015 to Jun 28, 2015",
                  "popularity": 205,
                  "premiered": "Spring 2015",
                  "rating": "R - 17+ (violence & profanity)",
                  "ranked": 236,
                  "id": "Fate/stay night: Unlimited Blade Works 2nd SeasonFate/stay night [Unlimited Blade Works] Season 2",
                  "vote": 556578,
                  "episodes": 13,
                  "status": "Finished Airing",
                  "label": "Anime"
                },
                "color": "#2196F3",
                "styles": {},
                "label": "Fate/stay night: Unlimited Blade Works 2nd SeasonFate/stay night [Unlimited Blade Works] Season 2",
                "scale_factor": 1,
                "type": "#2196F3",
                "size": [
                  55,
                  55
                ],
                "position": [
                  0,
                  0
                ]
              },
              {
                "id": 623,
                "properties": {
                  "duration": "22 min. per ep.",
                  "score": 8.32,
                  "aired": "Jul 12, 2019 to Sep 20, 2019",
                  "popularity": 382,
                  "premiered": "Summer 2019",
                  "rating": "PG-13 - Teens 13 or older",
                  "ranked": 237,
                  "id": "Given",
                  "vote": 304567,
                  "episodes": 11,
                  "status": "Finished Airing",
                  "label": "Anime"
                },
                "color": "#2196F3",
                "styles": {},
                "label": "Given",
                "scale_factor": 1,
                "type": "#2196F3",
                "size": [
                  55,
                  55
                ],
                "position": [
                  0,
                  0
                ]
              },
              {
                "id": 630,
                "properties": {
                  "duration": "50 min. per ep.",
                  "score": 8.31,
                  "aired": "Jan 26, 2010 to Dec 11, 2010",
                  "popularity": 383,
                  "premiered": "Winter 2010",
                  "rating": "R - 17+ (violence & profanity)",
                  "ranked": 241,
                  "id": "Katanagatari",
                  "vote": 212456,
                  "episodes": 12,
                  "status": "Finished Airing",
                  "label": "Anime"
                },
                "color": "#2196F3",
                "styles": {},
                "label": "Katanagatari",
                "scale_factor": 1,
                "type": "#2196F3",
                "size": [
                  55,
                  55
                ],
                "position": [
                  0,
                  0
                ]
              }
            ],
            "_overview": {
              "enabled": null,
              "overview_set": false
            },
            "_selected_graph": [
              [],
              []
            ],
            "_sidebar": {
              "enabled": false,
              "start_with": null
            },
            "_view_count": null,
            "_view_module": "yfiles-jupyter-graphs",
            "_view_module_version": "^1.8.1",
            "_view_name": "GraphView",
            "layout": "IPY_MODEL_299703172c264b789a8279c81cb32d78",
            "tabbable": null,
            "tooltip": null
          }
        },
        "299703172c264b789a8279c81cb32d78": {
          "model_module": "@jupyter-widgets/base",
          "model_name": "LayoutModel",
          "model_module_version": "2.0.0",
          "state": {
            "_model_module": "@jupyter-widgets/base",
            "_model_module_version": "2.0.0",
            "_model_name": "LayoutModel",
            "_view_count": null,
            "_view_module": "@jupyter-widgets/base",
            "_view_module_version": "2.0.0",
            "_view_name": "LayoutView",
            "align_content": null,
            "align_items": null,
            "align_self": null,
            "border_bottom": null,
            "border_left": null,
            "border_right": null,
            "border_top": null,
            "bottom": null,
            "display": null,
            "flex": null,
            "flex_flow": null,
            "grid_area": null,
            "grid_auto_columns": null,
            "grid_auto_flow": null,
            "grid_auto_rows": null,
            "grid_column": null,
            "grid_gap": null,
            "grid_row": null,
            "grid_template_areas": null,
            "grid_template_columns": null,
            "grid_template_rows": null,
            "height": "800px",
            "justify_content": null,
            "justify_items": null,
            "left": null,
            "margin": null,
            "max_height": null,
            "max_width": null,
            "min_height": null,
            "min_width": null,
            "object_fit": null,
            "object_position": null,
            "order": null,
            "overflow": null,
            "padding": null,
            "right": null,
            "top": null,
            "visibility": null,
            "width": "100%"
          }
        }
      }
    }
  },
  "cells": [
    {
      "cell_type": "markdown",
      "metadata": {
        "id": "view-in-github",
        "colab_type": "text"
      },
      "source": [
        "<a href=\"https://colab.research.google.com/github/AtharshKrishnamoorthy/GRAPH-RAG-/blob/main/NEO4J_GRAPHRAG.ipynb\" target=\"_parent\"><img src=\"https://colab.research.google.com/assets/colab-badge.svg\" alt=\"Open In Colab\"/></a>"
      ]
    },
    {
      "cell_type": "code",
      "execution_count": 1,
      "metadata": {
        "colab": {
          "base_uri": "https://localhost:8080/"
        },
        "id": "b5WkDWAvbh6A",
        "outputId": "7a7a77e2-a7ee-4076-a759-6cce5deded9a"
      },
      "outputs": [
        {
          "output_type": "stream",
          "name": "stdout",
          "text": [
            "\u001b[2K     \u001b[90m━━━━━━━━━━━━━━━━━━━━━━━━━━━━━━━━━━━━━━━━\u001b[0m \u001b[32m50.4/50.4 kB\u001b[0m \u001b[31m4.3 MB/s\u001b[0m eta \u001b[36m0:00:00\u001b[0m\n",
            "\u001b[2K   \u001b[90m━━━━━━━━━━━━━━━━━━━━━━━━━━━━━━━━━━━━━━━━\u001b[0m \u001b[32m1.0/1.0 MB\u001b[0m \u001b[31m46.2 MB/s\u001b[0m eta \u001b[36m0:00:00\u001b[0m\n",
            "\u001b[2K   \u001b[90m━━━━━━━━━━━━━━━━━━━━━━━━━━━━━━━━━━━━━━━━\u001b[0m \u001b[32m2.3/2.3 MB\u001b[0m \u001b[31m79.3 MB/s\u001b[0m eta \u001b[36m0:00:00\u001b[0m\n",
            "\u001b[2K   \u001b[90m━━━━━━━━━━━━━━━━━━━━━━━━━━━━━━━━━━━━━━━━\u001b[0m \u001b[32m294.6/294.6 kB\u001b[0m \u001b[31m21.1 MB/s\u001b[0m eta \u001b[36m0:00:00\u001b[0m\n",
            "\u001b[2K   \u001b[90m━━━━━━━━━━━━━━━━━━━━━━━━━━━━━━━━━━━━━━━━\u001b[0m \u001b[32m106.5/106.5 kB\u001b[0m \u001b[31m9.0 MB/s\u001b[0m eta \u001b[36m0:00:00\u001b[0m\n",
            "\u001b[2K   \u001b[90m━━━━━━━━━━━━━━━━━━━━━━━━━━━━━━━━━━━━━━━━\u001b[0m \u001b[32m396.4/396.4 kB\u001b[0m \u001b[31m28.7 MB/s\u001b[0m eta \u001b[36m0:00:00\u001b[0m\n",
            "\u001b[2K   \u001b[90m━━━━━━━━━━━━━━━━━━━━━━━━━━━━━━━━━━━━━━━━\u001b[0m \u001b[32m290.4/290.4 kB\u001b[0m \u001b[31m24.3 MB/s\u001b[0m eta \u001b[36m0:00:00\u001b[0m\n",
            "\u001b[2K   \u001b[90m━━━━━━━━━━━━━━━━━━━━━━━━━━━━━━━━━━━━━━━━\u001b[0m \u001b[32m76.4/76.4 kB\u001b[0m \u001b[31m7.6 MB/s\u001b[0m eta \u001b[36m0:00:00\u001b[0m\n",
            "\u001b[2K   \u001b[90m━━━━━━━━━━━━━━━━━━━━━━━━━━━━━━━━━━━━━━━━\u001b[0m \u001b[32m77.9/77.9 kB\u001b[0m \u001b[31m5.3 MB/s\u001b[0m eta \u001b[36m0:00:00\u001b[0m\n",
            "\u001b[2K   \u001b[90m━━━━━━━━━━━━━━━━━━━━━━━━━━━━━━━━━━━━━━━━\u001b[0m \u001b[32m49.3/49.3 kB\u001b[0m \u001b[31m3.9 MB/s\u001b[0m eta \u001b[36m0:00:00\u001b[0m\n",
            "\u001b[2K   \u001b[90m━━━━━━━━━━━━━━━━━━━━━━━━━━━━━━━━━━━━━━━━\u001b[0m \u001b[32m141.9/141.9 kB\u001b[0m \u001b[31m12.8 MB/s\u001b[0m eta \u001b[36m0:00:00\u001b[0m\n",
            "\u001b[2K   \u001b[90m━━━━━━━━━━━━━━━━━━━━━━━━━━━━━━━━━━━━━━━━\u001b[0m \u001b[32m58.3/58.3 kB\u001b[0m \u001b[31m4.9 MB/s\u001b[0m eta \u001b[36m0:00:00\u001b[0m\n",
            "\u001b[?25h"
          ]
        }
      ],
      "source": [
        "! pip install --upgrade --quiet langchain langchain-community langchain-groq neo4j"
      ]
    },
    {
      "cell_type": "code",
      "source": [
        "# Graph Configuration\n",
        "\n",
        "NEO4J_URI = \"neo4j+s://94dcf6b5.databases.neo4j.io\"\n",
        "NEO4J_USERNAME= \"neo4j\"\n",
        "NEO4J_PASSWORD= \"BSs0gtm1e_jN-I6Gb6yrJYbnU_WihOMNThyWs8lxTjk\""
      ],
      "metadata": {
        "id": "mKZ174asboYX"
      },
      "execution_count": 2,
      "outputs": []
    },
    {
      "cell_type": "code",
      "source": [
        "import os\n",
        "\n",
        "os.environ[\"NEO4J_URI\"] = NEO4J_URI\n",
        "os.environ[\"NEO4J_USERNAME\"] = NEO4J_USERNAME\n",
        "os.environ[\"NEO4J_PASSWORD\"] = NEO4J_PASSWORD"
      ],
      "metadata": {
        "id": "Te3nJKqWboao"
      },
      "execution_count": 3,
      "outputs": []
    },
    {
      "cell_type": "code",
      "source": [
        "# Initiating Neo4jGrapph\n",
        "\n",
        "from langchain_community.graphs import Neo4jGraph\n",
        "\n",
        "graph = Neo4jGraph(\n",
        "    url=os.environ[\"NEO4J_URI\"],\n",
        "    username=os.environ[\"NEO4J_USERNAME\"],\n",
        "    password=os.environ[\"NEO4J_PASSWORD\"]\n",
        ")"
      ],
      "metadata": {
        "id": "RA-nseKdbodu"
      },
      "execution_count": 4,
      "outputs": []
    },
    {
      "cell_type": "code",
      "source": [
        "graph"
      ],
      "metadata": {
        "colab": {
          "base_uri": "https://localhost:8080/"
        },
        "id": "x9-dSiUebofd",
        "outputId": "d58817b9-ac41-45cd-85f3-68a0c44b7b25"
      },
      "execution_count": 5,
      "outputs": [
        {
          "output_type": "execute_result",
          "data": {
            "text/plain": [
              "<langchain_community.graphs.neo4j_graph.Neo4jGraph at 0x79c7d4336800>"
            ]
          },
          "metadata": {},
          "execution_count": 5
        }
      ]
    },
    {
      "cell_type": "code",
      "source": [
        "from google.colab import userdata\n",
        "groq_api_key = userdata.get('GROQ_API_KEY')"
      ],
      "metadata": {
        "id": "xJBbO7f3eL5V"
      },
      "execution_count": 6,
      "outputs": []
    },
    {
      "cell_type": "code",
      "source": [
        "# LLM\n",
        "\n",
        "from langchain_groq import ChatGroq\n",
        "\n",
        "llm = ChatGroq(model=\"llama3-70b-8192\",api_key=groq_api_key,\n",
        "               temperature=0.5)"
      ],
      "metadata": {
        "id": "L-DEVZrleL_f"
      },
      "execution_count": 7,
      "outputs": []
    },
    {
      "cell_type": "code",
      "source": [
        "llm"
      ],
      "metadata": {
        "colab": {
          "base_uri": "https://localhost:8080/"
        },
        "id": "4jMHjo_Sboi5",
        "outputId": "a5a52021-1b40-4d57-8fa2-e06e1624f797"
      },
      "execution_count": 8,
      "outputs": [
        {
          "output_type": "execute_result",
          "data": {
            "text/plain": [
              "ChatGroq(client=<groq.resources.chat.completions.Completions object at 0x79c795c6f610>, async_client=<groq.resources.chat.completions.AsyncCompletions object at 0x79c795c6e950>, model_name='llama3-70b-8192', temperature=0.5, groq_api_key=SecretStr('**********'))"
            ]
          },
          "metadata": {},
          "execution_count": 8
        }
      ]
    },
    {
      "cell_type": "code",
      "source": [
        "content = \"\"\"\n",
        "\n",
        "Attack on Titan series feature an extensive cast of fictional characters\n",
        "created by Hajime Isayama. The story is set in a world where humanity lives in cities\n",
        "surrounded by enormous walls; a defense against the Titans, gigantic humanoids that eat\n",
        "humans seemingly without reason.\n",
        "The story initially centers on Eren Yeager with his childhood friends Mikasa Ackerman and Armin Arlert,\n",
        "who join the military to fight the Titans after their home town is invaded and Eren's mother is eaten.\n",
        "They are part of the 104th Training Corps, whose graduates assume different positions in the Military,\n",
        "including the Garrison Regiment, the Survey Corps and the Military Police Brigade.\n",
        "It is later revealed that the area where the Walls are located is called Paradis and that it is the last territory of Eldia .\n",
        "There are other nations outside the walls of their mother womb, namely Marley  which has infiltrated Paradis.\n",
        "\n",
        "Main characters\n",
        "\n",
        "\n",
        "Eren Yeager\n",
        "Main article: Eren Yeager\n",
        "The main protagonist of the series who, after witnessing his mother being devoured by a Titan while escaping\n",
        "his hometown as a young boy, dedicates his life to their eradication and joins the Survey Corps. After graduating\n",
        "fifth in his cadet class, he is swallowed by a bearded Titan during his first mission in Trost.[vol. 1]\n",
        "However, he soon reappears as a 15-meter (49 ft) Titan who fights other Titans on equal ground.[vol. 1, 2]\n",
        "Later on this is revealed to be because his father had killed the Reiss family and passed down the power of\n",
        "the Founding Titan and Attack Titan to Eren by having him eat him. Eren's ability as a Titan makes him the target\n",
        "of multiple parties that include those who see him as a tool to eradicate the Titans, other humans who can become Titans,\n",
        "and those who perceive Eren as a rebellion-inducing threat to the status quo.[vol. 2, 3]\n",
        "Placed into the Survey Corps' Special Operations Squad, he attempts to control his Titan-changing ability and discovers\n",
        "he has other abilities as well. In the final arc, Eren, in order to fulfill his own corrupted view of freedom,\n",
        "unleashes millions of Colossal Titans in a genocidal crusade against the rest of the world that wipes out 80% of humanity.\n",
        "The Survey Corps and Marleyan Warriors unite to stop him, and Mikasa is ultimately forced to kill him.\n",
        "Prior to the battle, Eren explains to Armin in the Paths why he went through with his actions,\n",
        "as well as admits to having feelings for Mikasa and wanting to be with her and their friends.\n",
        "Despite Armin's pleas, Eren states he must die for his sins. Mikasa returns to Shiganshina with his head,\n",
        "where he is buried under the same tree he used to nap. Over time, the tree grew to resemble the tree where the organism that granted Ymir her Titan power lived.\n",
        "[1] Author Hajime Isayama stated that Eren's Titan form's physique was modeled after middleweight mixed martial artist Yushin Okami.[2][3]\n",
        "Eren is voiced by Yuki Kaji in Japanese,[GB p.19] and by Bryce Papenbrook in the English dub.[4] In the live-action film, Eren is portrayed by Haruma Miura & Ryota Ozawa.[5]\n",
        "\n",
        "\n",
        "\"\"\""
      ],
      "metadata": {
        "id": "L9yfFxhmfQWP"
      },
      "execution_count": 10,
      "outputs": []
    },
    {
      "cell_type": "code",
      "source": [
        "# Loading Docs\n",
        "\n",
        "from langchain_core.documents import Document\n",
        "\n",
        "docs = [Document(page_content=content)]\n",
        "docs"
      ],
      "metadata": {
        "colab": {
          "base_uri": "https://localhost:8080/"
        },
        "id": "rRrFPzjzemnA",
        "outputId": "5d00e026-e823-4615-e875-d1ab516a31fe"
      },
      "execution_count": 11,
      "outputs": [
        {
          "output_type": "execute_result",
          "data": {
            "text/plain": [
              "[Document(page_content=\"\\n\\nAttack on Titan series feature an extensive cast of fictional characters \\ncreated by Hajime Isayama. The story is set in a world where humanity lives in cities \\nsurrounded by enormous walls; a defense against the Titans, gigantic humanoids that eat \\nhumans seemingly without reason. \\nThe story initially centers on Eren Yeager with his childhood friends Mikasa Ackerman and Armin Arlert, \\nwho join the military to fight the Titans after their home town is invaded and Eren's mother is eaten. \\nThey are part of the 104th Training Corps, whose graduates assume different positions in the Military, \\nincluding the Garrison Regiment, the Survey Corps and the Military Police Brigade. \\nIt is later revealed that the area where the Walls are located is called Paradis and that it is the last territory of Eldia .\\nThere are other nations outside the walls of their mother womb, namely Marley  which has infiltrated Paradis.\\n\\nMain characters\\n\\n\\nEren Yeager \\nMain article: Eren Yeager\\nThe main protagonist of the series who, after witnessing his mother being devoured by a Titan while escaping \\nhis hometown as a young boy, dedicates his life to their eradication and joins the Survey Corps. After graduating \\nfifth in his cadet class, he is swallowed by a bearded Titan during his first mission in Trost.[vol. 1] \\nHowever, he soon reappears as a 15-meter (49 ft) Titan who fights other Titans on equal ground.[vol. 1, 2] \\nLater on this is revealed to be because his father had killed the Reiss family and passed down the power of \\nthe Founding Titan and Attack Titan to Eren by having him eat him. Eren's ability as a Titan makes him the target \\nof multiple parties that include those who see him as a tool to eradicate the Titans, other humans who can become Titans,\\nand those who perceive Eren as a rebellion-inducing threat to the status quo.[vol. 2, 3]\\nPlaced into the Survey Corps' Special Operations Squad, he attempts to control his Titan-changing ability and discovers\\nhe has other abilities as well. In the final arc, Eren, in order to fulfill his own corrupted view of freedom, \\nunleashes millions of Colossal Titans in a genocidal crusade against the rest of the world that wipes out 80% of humanity. \\nThe Survey Corps and Marleyan Warriors unite to stop him, and Mikasa is ultimately forced to kill him. \\nPrior to the battle, Eren explains to Armin in the Paths why he went through with his actions, \\nas well as admits to having feelings for Mikasa and wanting to be with her and their friends. \\nDespite Armin's pleas, Eren states he must die for his sins. Mikasa returns to Shiganshina with his head, \\nwhere he is buried under the same tree he used to nap. Over time, the tree grew to resemble the tree where the organism that granted Ymir her Titan power lived.\\n[1] Author Hajime Isayama stated that Eren's Titan form's physique was modeled after middleweight mixed martial artist Yushin Okami.[2][3]\\nEren is voiced by Yuki Kaji in Japanese,[GB p.19] and by Bryce Papenbrook in the English dub.[4] In the live-action film, Eren is portrayed by Haruma Miura & Ryota Ozawa.[5]\\n\\n\\n\")]"
            ]
          },
          "metadata": {},
          "execution_count": 11
        }
      ]
    },
    {
      "cell_type": "code",
      "source": [
        "! pip install --upgrade --quiet langchain_experimental"
      ],
      "metadata": {
        "colab": {
          "base_uri": "https://localhost:8080/"
        },
        "id": "KHEDG_1jfrA-",
        "outputId": "3a635e39-31b1-47ce-cd35-e6468db2f05a"
      },
      "execution_count": 12,
      "outputs": [
        {
          "output_type": "stream",
          "name": "stdout",
          "text": [
            "\u001b[?25l   \u001b[90m━━━━━━━━━━━━━━━━━━━━━━━━━━━━━━━━━━━━━━━━\u001b[0m \u001b[32m0.0/207.2 kB\u001b[0m \u001b[31m?\u001b[0m eta \u001b[36m-:--:--\u001b[0m\r\u001b[2K   \u001b[90m━━━━━━━━━━━━━━━━━━━━━━━━━━━━━━━━━━━━━━━━\u001b[0m \u001b[32m207.2/207.2 kB\u001b[0m \u001b[31m14.1 MB/s\u001b[0m eta \u001b[36m0:00:00\u001b[0m\n",
            "\u001b[?25h"
          ]
        }
      ]
    },
    {
      "cell_type": "code",
      "source": [
        "# Converting text docs to graph docs using LLMGraphTransformer\n",
        "\n",
        "from langchain_experimental.graph_transformers import LLMGraphTransformer\n",
        "llm_transformer = LLMGraphTransformer(llm=llm)"
      ],
      "metadata": {
        "id": "-lBRVB5hg_T1"
      },
      "execution_count": 13,
      "outputs": []
    },
    {
      "cell_type": "code",
      "source": [
        "graph_docs = llm_transformer.convert_to_graph_documents(docs)"
      ],
      "metadata": {
        "id": "yeihSxrog_v4"
      },
      "execution_count": 14,
      "outputs": []
    },
    {
      "cell_type": "code",
      "source": [
        "graph_docs"
      ],
      "metadata": {
        "colab": {
          "base_uri": "https://localhost:8080/"
        },
        "id": "kWMUgI29g_zY",
        "outputId": "105a50e6-2147-46c5-90fa-0636d62bb320"
      },
      "execution_count": 15,
      "outputs": [
        {
          "output_type": "execute_result",
          "data": {
            "text/plain": [
              "[GraphDocument(nodes=[Node(id='Eren Yeager', type='Person'), Node(id='Mikasa Ackerman', type='Person'), Node(id='Armin Arlert', type='Person'), Node(id='Hajime Isayama', type='Person'), Node(id='Yushin Okami', type='Person'), Node(id='Yuki Kaji', type='Person'), Node(id='Bryce Papenbrook', type='Person'), Node(id='Haruma Miura', type='Person'), Node(id='Ryota Ozawa', type='Person'), Node(id='Paradis', type='Location'), Node(id='Marley', type='Location'), Node(id='Eldia', type='Location'), Node(id='Trost', type='Location'), Node(id='Shiganshina', type='Location')], relationships=[Relationship(source=Node(id='Eren Yeager', type='Person'), target=Node(id='Mikasa Ackerman', type='Person'), type='FRIEND'), Relationship(source=Node(id='Eren Yeager', type='Person'), target=Node(id='Armin Arlert', type='Person'), type='FRIEND'), Relationship(source=Node(id='Eren Yeager', type='Person'), target=Node(id='Hajime Isayama', type='Person'), type='CREATOR'), Relationship(source=Node(id='Hajime Isayama', type='Person'), target=Node(id='Attack On Titan', type='Series'), type='CREATOR'), Relationship(source=Node(id='Paradis', type='Location'), target=Node(id='Eldia', type='Location'), type='PART_OF'), Relationship(source=Node(id='Marley', type='Location'), target=Node(id='Paradis', type='Location'), type='NEIGHBOR')], source=Document(page_content=\"\\n\\nAttack on Titan series feature an extensive cast of fictional characters \\ncreated by Hajime Isayama. The story is set in a world where humanity lives in cities \\nsurrounded by enormous walls; a defense against the Titans, gigantic humanoids that eat \\nhumans seemingly without reason. \\nThe story initially centers on Eren Yeager with his childhood friends Mikasa Ackerman and Armin Arlert, \\nwho join the military to fight the Titans after their home town is invaded and Eren's mother is eaten. \\nThey are part of the 104th Training Corps, whose graduates assume different positions in the Military, \\nincluding the Garrison Regiment, the Survey Corps and the Military Police Brigade. \\nIt is later revealed that the area where the Walls are located is called Paradis and that it is the last territory of Eldia .\\nThere are other nations outside the walls of their mother womb, namely Marley  which has infiltrated Paradis.\\n\\nMain characters\\n\\n\\nEren Yeager \\nMain article: Eren Yeager\\nThe main protagonist of the series who, after witnessing his mother being devoured by a Titan while escaping \\nhis hometown as a young boy, dedicates his life to their eradication and joins the Survey Corps. After graduating \\nfifth in his cadet class, he is swallowed by a bearded Titan during his first mission in Trost.[vol. 1] \\nHowever, he soon reappears as a 15-meter (49 ft) Titan who fights other Titans on equal ground.[vol. 1, 2] \\nLater on this is revealed to be because his father had killed the Reiss family and passed down the power of \\nthe Founding Titan and Attack Titan to Eren by having him eat him. Eren's ability as a Titan makes him the target \\nof multiple parties that include those who see him as a tool to eradicate the Titans, other humans who can become Titans,\\nand those who perceive Eren as a rebellion-inducing threat to the status quo.[vol. 2, 3]\\nPlaced into the Survey Corps' Special Operations Squad, he attempts to control his Titan-changing ability and discovers\\nhe has other abilities as well. In the final arc, Eren, in order to fulfill his own corrupted view of freedom, \\nunleashes millions of Colossal Titans in a genocidal crusade against the rest of the world that wipes out 80% of humanity. \\nThe Survey Corps and Marleyan Warriors unite to stop him, and Mikasa is ultimately forced to kill him. \\nPrior to the battle, Eren explains to Armin in the Paths why he went through with his actions, \\nas well as admits to having feelings for Mikasa and wanting to be with her and their friends. \\nDespite Armin's pleas, Eren states he must die for his sins. Mikasa returns to Shiganshina with his head, \\nwhere he is buried under the same tree he used to nap. Over time, the tree grew to resemble the tree where the organism that granted Ymir her Titan power lived.\\n[1] Author Hajime Isayama stated that Eren's Titan form's physique was modeled after middleweight mixed martial artist Yushin Okami.[2][3]\\nEren is voiced by Yuki Kaji in Japanese,[GB p.19] and by Bryce Papenbrook in the English dub.[4] In the live-action film, Eren is portrayed by Haruma Miura & Ryota Ozawa.[5]\\n\\n\\n\"))]"
            ]
          },
          "metadata": {},
          "execution_count": 15
        }
      ]
    },
    {
      "cell_type": "code",
      "source": [
        "# Extracting only nodes\n",
        "\n",
        "graph_docs[0].nodes"
      ],
      "metadata": {
        "colab": {
          "base_uri": "https://localhost:8080/"
        },
        "id": "g5795TBjhp4S",
        "outputId": "884bfad8-9f8b-408d-c022-1414cc8cc489"
      },
      "execution_count": 16,
      "outputs": [
        {
          "output_type": "execute_result",
          "data": {
            "text/plain": [
              "[Node(id='Eren Yeager', type='Person'),\n",
              " Node(id='Mikasa Ackerman', type='Person'),\n",
              " Node(id='Armin Arlert', type='Person'),\n",
              " Node(id='Hajime Isayama', type='Person'),\n",
              " Node(id='Yushin Okami', type='Person'),\n",
              " Node(id='Yuki Kaji', type='Person'),\n",
              " Node(id='Bryce Papenbrook', type='Person'),\n",
              " Node(id='Haruma Miura', type='Person'),\n",
              " Node(id='Ryota Ozawa', type='Person'),\n",
              " Node(id='Paradis', type='Location'),\n",
              " Node(id='Marley', type='Location'),\n",
              " Node(id='Eldia', type='Location'),\n",
              " Node(id='Trost', type='Location'),\n",
              " Node(id='Shiganshina', type='Location')]"
            ]
          },
          "metadata": {},
          "execution_count": 16
        }
      ]
    },
    {
      "cell_type": "code",
      "source": [
        "# Extracting Relationships\n",
        "\n",
        "graph_docs[0].relationships"
      ],
      "metadata": {
        "colab": {
          "base_uri": "https://localhost:8080/"
        },
        "id": "4J3c7XN4iITv",
        "outputId": "2db0e991-b658-4672-cbe8-72c093fa43f8"
      },
      "execution_count": 17,
      "outputs": [
        {
          "output_type": "execute_result",
          "data": {
            "text/plain": [
              "[Relationship(source=Node(id='Eren Yeager', type='Person'), target=Node(id='Mikasa Ackerman', type='Person'), type='FRIEND'),\n",
              " Relationship(source=Node(id='Eren Yeager', type='Person'), target=Node(id='Armin Arlert', type='Person'), type='FRIEND'),\n",
              " Relationship(source=Node(id='Eren Yeager', type='Person'), target=Node(id='Hajime Isayama', type='Person'), type='CREATOR'),\n",
              " Relationship(source=Node(id='Hajime Isayama', type='Person'), target=Node(id='Attack On Titan', type='Series'), type='CREATOR'),\n",
              " Relationship(source=Node(id='Paradis', type='Location'), target=Node(id='Eldia', type='Location'), type='PART_OF'),\n",
              " Relationship(source=Node(id='Marley', type='Location'), target=Node(id='Paradis', type='Location'), type='NEIGHBOR')]"
            ]
          },
          "metadata": {},
          "execution_count": 17
        }
      ]
    },
    {
      "cell_type": "code",
      "source": [
        "# Using LOAD CSV Func to load csv doc and extract info from that\n",
        "\n",
        "# Cypher query template\n",
        "anime_query = \"\"\"\n",
        "LOAD CSV WITH HEADERS FROM\n",
        "'https://raw.githubusercontent.com/AtharshKrishnamoorthy/GRAPH-RAG-/main/anime.csv' AS row\n",
        "\n",
        "WITH row WHERE row.Title IS NOT NULL // Filter out rows with null Title\n",
        "MERGE (a:Anime {id: row.Title})\n",
        "SET a.score = toFloat(row.Score),\n",
        "    a.vote = toInteger(row.Vote),\n",
        "    a.ranked = toInteger(row.Ranked),\n",
        "    a.popularity = toInteger(row.Popularity),\n",
        "    a.episodes = toInteger(row.Episodes),\n",
        "    a.status = row.Status,\n",
        "    a.aired = row.Aired,\n",
        "    a.premiered = row.Premiered,\n",
        "    a.duration = row.Duration,\n",
        "    a.rating = row.Rating\n",
        "\n",
        "FOREACH (producer IN split(row.Producers, ', ') |\n",
        "    MERGE (p:Producer {name: trim(producer)})\n",
        "    MERGE (p)-[:PRODUCED]->(a))\n",
        "\n",
        "FOREACH (licensor IN [x IN split(row.Licensors, ', ') WHERE x <> 'None found, add some'] |\n",
        "    MERGE (l:Licensor {name: trim(licensor)})\n",
        "    MERGE (l)-[:LICENSED]->(a))\n",
        "\n",
        "FOREACH (studio IN split(row.Studios, ', ') |\n",
        "    MERGE (s:Studio {name: trim(studio)})\n",
        "    MERGE (s)-[:ANIMATED]->(a))\n",
        "\n",
        "MERGE (source:Source {name: row.Source})\n",
        "MERGE (a)-[:BASED_ON]->(source)\n",
        "\"\"\"\n",
        "\n"
      ],
      "metadata": {
        "id": "6a3VhQ-AiceK"
      },
      "execution_count": 30,
      "outputs": []
    },
    {
      "cell_type": "code",
      "source": [
        "# Adding CSV docs using the above query\n",
        "\n",
        "graph.query(anime_query)"
      ],
      "metadata": {
        "colab": {
          "base_uri": "https://localhost:8080/"
        },
        "id": "p8Zmw7j6j-J9",
        "outputId": "8338e55c-68a7-469a-a813-909456d970bf"
      },
      "execution_count": 31,
      "outputs": [
        {
          "output_type": "execute_result",
          "data": {
            "text/plain": [
              "[]"
            ]
          },
          "metadata": {},
          "execution_count": 31
        }
      ]
    },
    {
      "cell_type": "code",
      "source": [
        "graph.refresh_schema()\n",
        "print(graph.schema)"
      ],
      "metadata": {
        "colab": {
          "base_uri": "https://localhost:8080/"
        },
        "id": "wFY9-du-nLqm",
        "outputId": "a849e608-1ef7-4f6f-94fe-938beeb0cef8"
      },
      "execution_count": 32,
      "outputs": [
        {
          "output_type": "stream",
          "name": "stdout",
          "text": [
            "Node properties:\n",
            "Anime {id: STRING, score: FLOAT, vote: INTEGER, ranked: INTEGER, popularity: INTEGER, episodes: INTEGER, status: STRING, aired: STRING, premiered: STRING, duration: STRING, rating: STRING}\n",
            "Producer {name: STRING}\n",
            "Licensor {name: STRING}\n",
            "Studio {name: STRING}\n",
            "Source {name: STRING}\n",
            "Relationship properties:\n",
            "\n",
            "The relationships:\n",
            "(:Anime)-[:BASED_ON]->(:Source)\n",
            "(:Producer)-[:PRODUCED]->(:Anime)\n",
            "(:Licensor)-[:LICENSED]->(:Anime)\n",
            "(:Studio)-[:ANIMATED]->(:Anime)\n"
          ]
        }
      ]
    },
    {
      "cell_type": "code",
      "source": [
        "# Creating a Cypher query automated using GraphQueryQAChain\n",
        "\n",
        "from langchain.chains import GraphCypherQAChain\n",
        "\n",
        "chain = GraphCypherQAChain.from_llm(\n",
        "    llm=llm,\n",
        "    graph=graph,\n",
        "    verbose=True\n",
        ")"
      ],
      "metadata": {
        "id": "CYoUVn22q5Rm"
      },
      "execution_count": 33,
      "outputs": []
    },
    {
      "cell_type": "code",
      "source": [
        "chain"
      ],
      "metadata": {
        "colab": {
          "base_uri": "https://localhost:8080/"
        },
        "id": "gdu6963Xrnkk",
        "outputId": "78a66a08-6b9f-4998-ce28-aab733daec54"
      },
      "execution_count": 34,
      "outputs": [
        {
          "output_type": "execute_result",
          "data": {
            "text/plain": [
              "GraphCypherQAChain(verbose=True, graph=<langchain_community.graphs.neo4j_graph.Neo4jGraph object at 0x79c7d4336800>, cypher_generation_chain=LLMChain(prompt=PromptTemplate(input_variables=['question', 'schema'], template='Task:Generate Cypher statement to query a graph database.\\nInstructions:\\nUse only the provided relationship types and properties in the schema.\\nDo not use any other relationship types or properties that are not provided.\\nSchema:\\n{schema}\\nNote: Do not include any explanations or apologies in your responses.\\nDo not respond to any questions that might ask anything else than for you to construct a Cypher statement.\\nDo not include any text except the generated Cypher statement.\\n\\nThe question is:\\n{question}'), llm=ChatGroq(client=<groq.resources.chat.completions.Completions object at 0x79c795c6f610>, async_client=<groq.resources.chat.completions.AsyncCompletions object at 0x79c795c6e950>, model_name='llama3-70b-8192', temperature=0.5, groq_api_key=SecretStr('**********'))), qa_chain=LLMChain(prompt=PromptTemplate(input_variables=['context', 'question'], template=\"You are an assistant that helps to form nice and human understandable answers.\\nThe information part contains the provided information that you must use to construct an answer.\\nThe provided information is authoritative, you must never doubt it or try to use your internal knowledge to correct it.\\nMake the answer sound as a response to the question. Do not mention that you based the result on the given information.\\nHere is an example:\\n\\nQuestion: Which managers own Neo4j stocks?\\nContext:[manager:CTL LLC, manager:JANE STREET GROUP LLC]\\nHelpful Answer: CTL LLC, JANE STREET GROUP LLC owns Neo4j stocks.\\n\\nFollow this example when generating answers.\\nIf the provided information is empty, say that you don't know the answer.\\nInformation:\\n{context}\\n\\nQuestion: {question}\\nHelpful Answer:\"), llm=ChatGroq(client=<groq.resources.chat.completions.Completions object at 0x79c795c6f610>, async_client=<groq.resources.chat.completions.AsyncCompletions object at 0x79c795c6e950>, model_name='llama3-70b-8192', temperature=0.5, groq_api_key=SecretStr('**********'))), graph_schema='Node properties are the following:\\nAnime {id: STRING, score: FLOAT, vote: INTEGER, ranked: INTEGER, popularity: INTEGER, episodes: INTEGER, status: STRING, aired: STRING, premiered: STRING, duration: STRING, rating: STRING},Producer {name: STRING},Licensor {name: STRING},Studio {name: STRING},Source {name: STRING}\\nRelationship properties are the following:\\n\\nThe relationships are the following:\\n(:Anime)-[:BASED_ON]->(:Source),(:Producer)-[:PRODUCED]->(:Anime),(:Licensor)-[:LICENSED]->(:Anime),(:Studio)-[:ANIMATED]->(:Anime)')"
            ]
          },
          "metadata": {},
          "execution_count": 34
        }
      ]
    },
    {
      "cell_type": "code",
      "source": [
        "# Getting responsse\n",
        "\n",
        "response = chain.invoke({\"query\":\"Who is the producer of Fullmetal Alchemist: Brotherhood\"})\n",
        "response"
      ],
      "metadata": {
        "colab": {
          "base_uri": "https://localhost:8080/"
        },
        "id": "STFjdsYIroUr",
        "outputId": "6f5f55bb-8055-47e6-d3a4-9f5755eec21f"
      },
      "execution_count": 36,
      "outputs": [
        {
          "output_type": "stream",
          "name": "stdout",
          "text": [
            "\n",
            "\n",
            "\u001b[1m> Entering new GraphCypherQAChain chain...\u001b[0m\n",
            "Generated Cypher:\n",
            "\u001b[32;1m\u001b[1;3mMATCH (a:Anime {id: \"Fullmetal Alchemist: Brotherhood\"})-[:PRODUCED]-(p:Producer) RETURN p.name\u001b[0m\n",
            "Full Context:\n",
            "\u001b[32;1m\u001b[1;3m[{'p.name': \"['Aniplex'\"}, {'p.name': \"'Square Enix'\"}, {'p.name': \"'Mainichi Broadcasting System'\"}, {'p.name': \"'Studio Moriken']\"}]\u001b[0m\n",
            "\n",
            "\u001b[1m> Finished chain.\u001b[0m\n"
          ]
        },
        {
          "output_type": "execute_result",
          "data": {
            "text/plain": [
              "{'query': 'Who is the producer of Fullmetal Alchemist: Brotherhood',\n",
              " 'result': 'Aniplex, Square Enix, Mainichi Broadcasting System, and Studio Moriken are the producers of Fullmetal Alchemist: Brotherhood.'}"
            ]
          },
          "metadata": {},
          "execution_count": 36
        }
      ]
    },
    {
      "cell_type": "code",
      "source": [
        "response['result']"
      ],
      "metadata": {
        "colab": {
          "base_uri": "https://localhost:8080/",
          "height": 36
        },
        "id": "_Ww8tjUQr_69",
        "outputId": "20752954-1ca5-49fc-fb1e-5a0b9489e948"
      },
      "execution_count": 37,
      "outputs": [
        {
          "output_type": "execute_result",
          "data": {
            "text/plain": [
              "'Aniplex, Square Enix, Mainichi Broadcasting System, and Studio Moriken are the producers of Fullmetal Alchemist: Brotherhood.'"
            ],
            "application/vnd.google.colaboratory.intrinsic+json": {
              "type": "string"
            }
          },
          "metadata": {},
          "execution_count": 37
        }
      ]
    },
    {
      "cell_type": "code",
      "source": [
        "response = chain.invoke({\"query\":\"What is the score of Jujutsu Kaisen\"})\n",
        "response['result']"
      ],
      "metadata": {
        "colab": {
          "base_uri": "https://localhost:8080/",
          "height": 192
        },
        "id": "6tkvCGbUsQz3",
        "outputId": "4e1f0024-2000-485a-a399-4c4cfc022b42"
      },
      "execution_count": 41,
      "outputs": [
        {
          "output_type": "stream",
          "name": "stdout",
          "text": [
            "\n",
            "\n",
            "\u001b[1m> Entering new GraphCypherQAChain chain...\u001b[0m\n",
            "Generated Cypher:\n",
            "\u001b[32;1m\u001b[1;3mMATCH (a:Anime {id: \"Jujutsu Kaisen\"}) RETURN a.score\u001b[0m\n",
            "Full Context:\n",
            "\u001b[32;1m\u001b[1;3m[{'a.score': 8.62}]\u001b[0m\n",
            "\n",
            "\u001b[1m> Finished chain.\u001b[0m\n"
          ]
        },
        {
          "output_type": "execute_result",
          "data": {
            "text/plain": [
              "'The score of Jujutsu Kaisen is 8.62.'"
            ],
            "application/vnd.google.colaboratory.intrinsic+json": {
              "type": "string"
            }
          },
          "metadata": {},
          "execution_count": 41
        }
      ]
    },
    {
      "cell_type": "code",
      "source": [
        "response = chain.invoke({\"query\":\"What is the ranking of Death Note , also provide its number of episodes and status\"})\n",
        "response['result']"
      ],
      "metadata": {
        "colab": {
          "base_uri": "https://localhost:8080/",
          "height": 209
        },
        "id": "nXYUc3ZusjLP",
        "outputId": "795e7053-7e2b-486a-a2ec-a8b182fcd356"
      },
      "execution_count": 42,
      "outputs": [
        {
          "output_type": "stream",
          "name": "stdout",
          "text": [
            "\n",
            "\n",
            "\u001b[1m> Entering new GraphCypherQAChain chain...\u001b[0m\n",
            "Generated Cypher:\n",
            "\u001b[32;1m\u001b[1;3mMATCH (a:Anime {id: \"Death Note\"}) \n",
            "RETURN a.ranked AS ranking, a.episodes AS num_episodes, a.status AS anime_status;\u001b[0m\n",
            "Full Context:\n",
            "\u001b[32;1m\u001b[1;3m[{'ranking': 81, 'num_episodes': 37, 'anime_status': 'Finished Airing'}]\u001b[0m\n",
            "\n",
            "\u001b[1m> Finished chain.\u001b[0m\n"
          ]
        },
        {
          "output_type": "execute_result",
          "data": {
            "text/plain": [
              "'The ranking of Death Note is 81, it has 37 episodes, and its anime status is Finished Airing.'"
            ],
            "application/vnd.google.colaboratory.intrinsic+json": {
              "type": "string"
            }
          },
          "metadata": {},
          "execution_count": 42
        }
      ]
    },
    {
      "cell_type": "code",
      "source": [
        "response = chain.invoke({\"query\":\"Provide number of votes,no of episodes,source,rating of the anime with highest score with name of it\"})\n",
        "response['result']"
      ],
      "metadata": {
        "colab": {
          "base_uri": "https://localhost:8080/",
          "height": 331
        },
        "id": "0jgB-VIxtSRO",
        "outputId": "431fbb64-1f66-47a9-de35-e0bc90116855"
      },
      "execution_count": 46,
      "outputs": [
        {
          "output_type": "stream",
          "name": "stdout",
          "text": [
            "\n",
            "\n",
            "\u001b[1m> Entering new GraphCypherQAChain chain...\u001b[0m\n",
            "Generated Cypher:\n",
            "\u001b[32;1m\u001b[1;3mMATCH (a:Anime)-[:BASED_ON]->(s:Source)\n",
            "OPTIONAL MATCH (a)-[:LICENSED]->(l:Licensor)\n",
            "OPTIONAL MATCH (a)-[:ANIMATED]->(st:Studio)\n",
            "OPTIONAL MATCH (a)-[:PRODUCED]->(p:Producer)\n",
            "WITH a, s\n",
            "ORDER BY a.score DESC\n",
            "LIMIT 1\n",
            "RETURN a.id AS anime_name, a.vote AS no_of_votes, a.episodes AS no_of_episodes, s.name AS source, a.rating AS rating\u001b[0m\n",
            "Full Context:\n",
            "\u001b[32;1m\u001b[1;3m[{'anime_name': \"Sousou no FrierenFrieren: Beyond Journey's End\", 'no_of_votes': 129040, 'no_of_episodes': 28, 'source': 'Manga', 'rating': 'PG-13 - Teens 13 or older'}]\u001b[0m\n",
            "\n",
            "\u001b[1m> Finished chain.\u001b[0m\n"
          ]
        },
        {
          "output_type": "execute_result",
          "data": {
            "text/plain": [
              "\"The anime with the highest score is Sousou no Frieren, also known as Frieren: Beyond Journey's End, which has 129040 votes, 28 episodes, is based on a Manga source, and has a rating of PG-13 - Teens 13 or older.\""
            ],
            "application/vnd.google.colaboratory.intrinsic+json": {
              "type": "string"
            }
          },
          "metadata": {},
          "execution_count": 46
        }
      ]
    },
    {
      "cell_type": "code",
      "source": [
        "! pip install wikipedia tiktoken"
      ],
      "metadata": {
        "colab": {
          "base_uri": "https://localhost:8080/"
        },
        "id": "HPICrG3AvIZ1",
        "outputId": "05109222-daab-4eec-b6f3-abbf46dcf5f9"
      },
      "execution_count": 50,
      "outputs": [
        {
          "output_type": "stream",
          "name": "stdout",
          "text": [
            "Requirement already satisfied: wikipedia in /usr/local/lib/python3.10/dist-packages (1.4.0)\n",
            "Collecting tiktoken\n",
            "  Downloading tiktoken-0.7.0-cp310-cp310-manylinux_2_17_x86_64.manylinux2014_x86_64.whl.metadata (6.6 kB)\n",
            "Requirement already satisfied: beautifulsoup4 in /usr/local/lib/python3.10/dist-packages (from wikipedia) (4.12.3)\n",
            "Requirement already satisfied: requests<3.0.0,>=2.0.0 in /usr/local/lib/python3.10/dist-packages (from wikipedia) (2.32.3)\n",
            "Requirement already satisfied: regex>=2022.1.18 in /usr/local/lib/python3.10/dist-packages (from tiktoken) (2024.5.15)\n",
            "Requirement already satisfied: charset-normalizer<4,>=2 in /usr/local/lib/python3.10/dist-packages (from requests<3.0.0,>=2.0.0->wikipedia) (3.3.2)\n",
            "Requirement already satisfied: idna<4,>=2.5 in /usr/local/lib/python3.10/dist-packages (from requests<3.0.0,>=2.0.0->wikipedia) (3.8)\n",
            "Requirement already satisfied: urllib3<3,>=1.21.1 in /usr/local/lib/python3.10/dist-packages (from requests<3.0.0,>=2.0.0->wikipedia) (2.0.7)\n",
            "Requirement already satisfied: certifi>=2017.4.17 in /usr/local/lib/python3.10/dist-packages (from requests<3.0.0,>=2.0.0->wikipedia) (2024.8.30)\n",
            "Requirement already satisfied: soupsieve>1.2 in /usr/local/lib/python3.10/dist-packages (from beautifulsoup4->wikipedia) (2.6)\n",
            "Downloading tiktoken-0.7.0-cp310-cp310-manylinux_2_17_x86_64.manylinux2014_x86_64.whl (1.1 MB)\n",
            "\u001b[2K   \u001b[90m━━━━━━━━━━━━━━━━━━━━━━━━━━━━━━━━━━━━━━━━\u001b[0m \u001b[32m1.1/1.1 MB\u001b[0m \u001b[31m40.2 MB/s\u001b[0m eta \u001b[36m0:00:00\u001b[0m\n",
            "\u001b[?25hInstalling collected packages: tiktoken\n",
            "Successfully installed tiktoken-0.7.0\n"
          ]
        }
      ]
    },
    {
      "cell_type": "code",
      "source": [
        "# Reading the docs from Wikipedia Article\n",
        "\n",
        "from langchain.document_loaders import WikipediaLoader\n",
        "from langchain.text_splitter import TokenTextSplitter\n",
        "\n",
        "raw_documents = WikipediaLoader(query=\"GOAT Tamil Movie\").load()\n",
        "# Define chunking strategy\n",
        "text_splitter = TokenTextSplitter(chunk_size=512, chunk_overlap=24)\n",
        "documents = text_splitter.split_documents(raw_documents[:3])"
      ],
      "metadata": {
        "id": "IuLWQShqte2n"
      },
      "execution_count": 53,
      "outputs": []
    },
    {
      "cell_type": "code",
      "source": [
        "documents"
      ],
      "metadata": {
        "colab": {
          "base_uri": "https://localhost:8080/"
        },
        "id": "2zQYqtMFvEWt",
        "outputId": "e530a9cb-e6c6-47b3-e837-bf11f7e67392"
      },
      "execution_count": 54,
      "outputs": [
        {
          "output_type": "execute_result",
          "data": {
            "text/plain": [
              "[Document(metadata={'title': 'The Greatest of All Time', 'summary': \"The Greatest of All Time (also marketed as GOAT) is a 2024 Indian Tamil-language science fiction action film directed by Venkat Prabhu and produced by AGS Entertainment. The film stars Vijay in dual roles, alongside Prashanth, Prabhu Deva, Mohan, Ajmal Ameer, Jayaram, Sneha, Laila, Meenakshi Chaudhary, Vaibhav, Yogi Babu, Premgi Amaren and Yugendran. It is the twenty-fifth production of the studio and the penultimate film of Vijay before his political entry. The film follows Gandhi, former leader of a special anti-terrorism squad, who reconciles with his squad members to address the problems which were stemmed from their previous actions.\\nThe film was officially announced in May 2023 under the tentative title Thalapathy 68, as it is Vijay's 68th film as a leading actor, and the official title was announced that December. Principal photography commenced in October 2023 and wrapped by late-June 2024. Filming locations included Chennai, Thailand, Hyderabad, Sri Lanka, Pondicherry, Thiruvananthapuram, Russia and United States. The film has music composed by Yuvan Shankar Raja, cinematography handled by Siddhartha Nuni and editing by Venkat Raajen. Made on a production budget of ₹400 crore, it is AGS' most expensive film and one of the most expensive Indian films.\\nThe Greatest of All Time was released worldwide on 5 September 2024 in standard and IMAX formats to mixed reviews from critics, who criticized the lack of character development and writing. However, Vijay's performance, action sequences and climax received praise. It set several box office records, including highest first day gross for a Tamil film in 2024, and is currently emerging as the second highest-grossing Tamil film in 2024.\", 'source': 'https://en.wikipedia.org/wiki/The_Greatest_of_All_Time'}, page_content=\"The Greatest of All Time (also marketed as GOAT) is a 2024 Indian Tamil-language science fiction action film directed by Venkat Prabhu and produced by AGS Entertainment. The film stars Vijay in dual roles, alongside Prashanth, Prabhu Deva, Mohan, Ajmal Ameer, Jayaram, Sneha, Laila, Meenakshi Chaudhary, Vaibhav, Yogi Babu, Premgi Amaren and Yugendran. It is the twenty-fifth production of the studio and the penultimate film of Vijay before his political entry. The film follows Gandhi, former leader of a special anti-terrorism squad, who reconciles with his squad members to address the problems which were stemmed from their previous actions.\\nThe film was officially announced in May 2023 under the tentative title Thalapathy 68, as it is Vijay's 68th film as a leading actor, and the official title was announced that December. Principal photography commenced in October 2023 and wrapped by late-June 2024. Filming locations included Chennai, Thailand, Hyderabad, Sri Lanka, Pondicherry, Thiruvananthapuram, Russia and United States. The film has music composed by Yuvan Shankar Raja, cinematography handled by Siddhartha Nuni and editing by Venkat Raajen. Made on a production budget of ₹400 crore, it is AGS' most expensive film and one of the most expensive Indian films.\\nThe Greatest of All Time was released worldwide on 5 September 2024 in standard and IMAX formats to mixed reviews from critics, who criticized the lack of character development and writing. However, Vijay's performance, action sequences and climax received praise. It set several box office records, including highest first day gross for a Tamil film in 2024, and is currently emerging as the second highest-grossing Tamil film in 2024.\\n\\n\\n== Plot ==\\n2008: In Kenya, the Special Anti-Terrorism Squad (SATS), consisting of Gandhi, Sunil, Kalyan, and Ajay, intercepts their former chief, Rajiv Menon, who was on the run after being charged with treason. They retrieve stolen uranium from Menon and destroy the train he was on, believing everyone on board, including Menon, to have died. Back in Delhi, the team lives undercover as employees of India Tourism Development Corporation, a tourism company, hiding their real jobs from their families. Gandhi lives with his wife\"),\n",
              " Document(metadata={'title': 'The Greatest of All Time', 'summary': \"The Greatest of All Time (also marketed as GOAT) is a 2024 Indian Tamil-language science fiction action film directed by Venkat Prabhu and produced by AGS Entertainment. The film stars Vijay in dual roles, alongside Prashanth, Prabhu Deva, Mohan, Ajmal Ameer, Jayaram, Sneha, Laila, Meenakshi Chaudhary, Vaibhav, Yogi Babu, Premgi Amaren and Yugendran. It is the twenty-fifth production of the studio and the penultimate film of Vijay before his political entry. The film follows Gandhi, former leader of a special anti-terrorism squad, who reconciles with his squad members to address the problems which were stemmed from their previous actions.\\nThe film was officially announced in May 2023 under the tentative title Thalapathy 68, as it is Vijay's 68th film as a leading actor, and the official title was announced that December. Principal photography commenced in October 2023 and wrapped by late-June 2024. Filming locations included Chennai, Thailand, Hyderabad, Sri Lanka, Pondicherry, Thiruvananthapuram, Russia and United States. The film has music composed by Yuvan Shankar Raja, cinematography handled by Siddhartha Nuni and editing by Venkat Raajen. Made on a production budget of ₹400 crore, it is AGS' most expensive film and one of the most expensive Indian films.\\nThe Greatest of All Time was released worldwide on 5 September 2024 in standard and IMAX formats to mixed reviews from critics, who criticized the lack of character development and writing. However, Vijay's performance, action sequences and climax received praise. It set several box office records, including highest first day gross for a Tamil film in 2024, and is currently emerging as the second highest-grossing Tamil film in 2024.\", 'source': 'https://en.wikipedia.org/wiki/The_Greatest_of_All_Time'}, page_content=' employees of India Tourism Development Corporation, a tourism company, hiding their real jobs from their families. Gandhi lives with his wife, Anusuya \"Anu\", who is pregnant, and their five-year-old son, Jeevan. \\nGandhi takes his family along to alleviate Anu\\'s suspicions of infidelity when he is assigned a new mission in Bangkok. After completing the mission, Gandhi and his family are attacked, leading to Anu going into labor, and Jeevan mysteriously disappearing. The police find a charred body they believe to be Jeevan’s, leaving Gandhi devastated. Anu delivers a baby girl but stops speaking to Gandhi out of grief.\\n2024: Gandhi has left the squad and works as an immigration officer at Chennai International Airport. He and Anu live separately, and their daughter Jeevitha lives with Anu. Nazeer, Gandhi\\'s former boss, asks him to go to Moscow to train new officers at the reopened Indian Embassy. Though reluctant, Gandhi agrees, but during his time there, the embassy is attacked by a gang. Gandhi fights them off and is shocked to see one of the attackers, who looks like a younger version of himself. He realizes it’s Jeevan and confirms this when Jeevan helps him fend off the attackers. They return to Chennai, and the family reunites, with Anu starting to speak to Gandhi again. However, Nazeer calls Gandhi for an urgent meeting but is attacked by a masked man. Gandhi arrives just in time to fight off the attacker, but Nazeer is killed by the masked figure, who is revealed to be Jeevan. \\n2008: Menon survived the train explosion but lost his family in the incident. Seeking revenge, Menon tracked Gandhi to Bangkok, kidnapped Jeevan, and placed him in a juvenile facility, instilling fear in him. Menon then “rescued” Jeevan from the facility, earning his trust and renaming him Sanjay. Jeevan, manipulated by Menon, comes to believe Gandhi is responsible for the deaths '),\n",
              " Document(metadata={'title': 'List of Tamil films of 2024', 'summary': 'This is a list of Tamil language films produced in the Tamil cinema in India that are to be released/scheduled in 2024.', 'source': 'https://en.wikipedia.org/wiki/List_of_Tamil_films_of_2024'}, page_content='This is a list of Tamil language films produced in the Tamil cinema in India that are to be released/scheduled in 2024.\\n\\n\\n== Box office collection ==\\nThe following is the list of highest-grossing Tamil films released in 2024, by worldwide box office gross revenue in Indian Rupees.\\nThe rank of the films in the following table depends on the estimate of worldwide collections as reported by reputable resources. There is no official  tracking of domestic box office figures within India.\\n\\n\\n== January–March ==\\n\\n\\n== April–June ==\\n\\n\\n== July–September ==\\n\\n\\n== October–December ==\\n\\n\\n== Upcoming releases ==\\n\\n\\n== See also ==\\nLists of Tamil-language films\\nList of Tamil films of 2023\\nList of highest-grossing Tamil films\\n\\n\\n== Notes ==\\n\\n\\n== References =='),\n",
              " Document(metadata={'title': 'Divyabharathi', 'summary': 'Divyabharathi is an Indian film actress predominantly works in the Tamil movie industry.\\nDivyabharathi debuted in Tamil film industry in 2021 in the film named Bachelor as the lead actress opposite to G. V. Prakash Kumar, where she was recognized for her performance thereby fetching her the Best Female Debut Award from Behindwoods in 2022 with several other awards. In 2024 she also debuted in Telugu cinema in the film named G.O.A.T starring Sudigali Sudheer.', 'source': 'https://en.wikipedia.org/wiki/Divyabharathi'}, page_content=\"Divyabharathi is an Indian film actress predominantly works in the Tamil movie industry.\\nDivyabharathi debuted in Tamil film industry in 2021 in the film named Bachelor as the lead actress opposite to G. V. Prakash Kumar, where she was recognized for her performance thereby fetching her the Best Female Debut Award from Behindwoods in 2022 with several other awards. In 2024 she also debuted in Telugu cinema in the film named G.O.A.T starring Sudigali Sudheer.\\n\\n\\n== Early life and education ==\\nShe hails from Coimbatore, Tamil Nadu. She completed her Bachelor of Technology, from Bannari Amman Institute of Technology, Sathyamangalam.\\n\\n\\n== Career ==\\nBefore entering into Tamil Film Industry, she was a model and won the 'Miss Ethnic Face of Madras' in 2015 and 'Popular New Face Model' in the same year. In 2016, she bagged the title 'Princess of Coimbatore 2016'.\\nDivyabharathi began her career as an actress in Tamil movie, Bachelor (2021) alongside famous music composer, actor G. V. Prakash Kumar, directed by Satish Selvakumar, the film received mixed reviews from critics, praising G.V. Prakash's and Divya Bharathi's performances, lead pair chemistry.\\nShe acted in Madhil Mel Kaadhal paired up with Mugen Rao directed by Anjana AliKhan and a movie titled Aasai with Kathir directed by Shiv Mohaa, while both the movies remain unreleased. In October 2023, she was announced to appear in the 25th film of G. V. Prakash Kumar titled Kingston making her second collaboration with him after Bachelor (2021).\\nIn 2024, she appeared in the webseries called Cheran's Journey (2024) alongside veteran actor R. Sarathkumar, Prasanna, Kalaiyarasan which was directed by Cheran, released in OTT Platform, SonyLIV. and also made cameo appearance in Maharaja (2024) as Maharaja's wife which emerged to be one of the highest-grossing Tamil film of 2024.\\nIn the same year, she debuted in a Telugu movie G.O.A.T alongside Sudigali Sudheer which is yet to be released.\\n\\n\\n== Filmography ==\\n\\n\\n=== Films ===\\n\\n\\n=== Web Series ===\"),\n",
              " Document(metadata={'title': 'Divyabharathi', 'summary': 'Divyabharathi is an Indian film actress predominantly works in the Tamil movie industry.\\nDivyabharathi debuted in Tamil film industry in 2021 in the film named Bachelor as the lead actress opposite to G. V. Prakash Kumar, where she was recognized for her performance thereby fetching her the Best Female Debut Award from Behindwoods in 2022 with several other awards. In 2024 she also debuted in Telugu cinema in the film named G.O.A.T starring Sudigali Sudheer.', 'source': 'https://en.wikipedia.org/wiki/Divyabharathi'}, page_content=' which is yet to be released.\\n\\n\\n== Filmography ==\\n\\n\\n=== Films ===\\n\\n\\n=== Web Series ===\\n\\n\\n== Awards and nominations ==\\n\\n\\n== See also ==\\nList of Indian film actresses\\n\\n\\n== References ==\\n\\n\\n== External links ==\\n\\nDivyabharathi at IMDb\\nDivyabharathi on Instagram')]"
            ]
          },
          "metadata": {},
          "execution_count": 54
        }
      ]
    },
    {
      "cell_type": "code",
      "source": [
        "llm_transformer = LLMGraphTransformer(llm=llm)\n",
        "graph_documents = llm_transformer.convert_to_graph_documents(documents)\n",
        "graph.add_graph_documents(\n",
        "    graph_documents,\n",
        "    baseEntityLabel=True,\n",
        "    include_source=True\n",
        ")"
      ],
      "metadata": {
        "id": "Z7PCSftaviwp"
      },
      "execution_count": 57,
      "outputs": []
    },
    {
      "cell_type": "code",
      "source": [
        "! pip install yfiles_jupyter_graphs"
      ],
      "metadata": {
        "colab": {
          "base_uri": "https://localhost:8080/"
        },
        "id": "EaJgj4ghxJXc",
        "outputId": "ba41dcec-02ac-4af0-876f-a5f032d0b84d"
      },
      "execution_count": 58,
      "outputs": [
        {
          "output_type": "stream",
          "name": "stdout",
          "text": [
            "Collecting yfiles_jupyter_graphs\n",
            "  Downloading yfiles_jupyter_graphs-1.8.1-py3-none-any.whl.metadata (19 kB)\n",
            "Collecting ipywidgets>=8.0.0 (from yfiles_jupyter_graphs)\n",
            "  Downloading ipywidgets-8.1.5-py3-none-any.whl.metadata (2.3 kB)\n",
            "Collecting comm>=0.1.3 (from ipywidgets>=8.0.0->yfiles_jupyter_graphs)\n",
            "  Downloading comm-0.2.2-py3-none-any.whl.metadata (3.7 kB)\n",
            "Requirement already satisfied: ipython>=6.1.0 in /usr/local/lib/python3.10/dist-packages (from ipywidgets>=8.0.0->yfiles_jupyter_graphs) (7.34.0)\n",
            "Requirement already satisfied: traitlets>=4.3.1 in /usr/local/lib/python3.10/dist-packages (from ipywidgets>=8.0.0->yfiles_jupyter_graphs) (5.7.1)\n",
            "Collecting widgetsnbextension~=4.0.12 (from ipywidgets>=8.0.0->yfiles_jupyter_graphs)\n",
            "  Downloading widgetsnbextension-4.0.13-py3-none-any.whl.metadata (1.6 kB)\n",
            "Requirement already satisfied: jupyterlab-widgets~=3.0.12 in /usr/local/lib/python3.10/dist-packages (from ipywidgets>=8.0.0->yfiles_jupyter_graphs) (3.0.13)\n",
            "Requirement already satisfied: setuptools>=18.5 in /usr/local/lib/python3.10/dist-packages (from ipython>=6.1.0->ipywidgets>=8.0.0->yfiles_jupyter_graphs) (71.0.4)\n",
            "Collecting jedi>=0.16 (from ipython>=6.1.0->ipywidgets>=8.0.0->yfiles_jupyter_graphs)\n",
            "  Using cached jedi-0.19.1-py2.py3-none-any.whl.metadata (22 kB)\n",
            "Requirement already satisfied: decorator in /usr/local/lib/python3.10/dist-packages (from ipython>=6.1.0->ipywidgets>=8.0.0->yfiles_jupyter_graphs) (4.4.2)\n",
            "Requirement already satisfied: pickleshare in /usr/local/lib/python3.10/dist-packages (from ipython>=6.1.0->ipywidgets>=8.0.0->yfiles_jupyter_graphs) (0.7.5)\n",
            "Requirement already satisfied: prompt-toolkit!=3.0.0,!=3.0.1,<3.1.0,>=2.0.0 in /usr/local/lib/python3.10/dist-packages (from ipython>=6.1.0->ipywidgets>=8.0.0->yfiles_jupyter_graphs) (3.0.47)\n",
            "Requirement already satisfied: pygments in /usr/local/lib/python3.10/dist-packages (from ipython>=6.1.0->ipywidgets>=8.0.0->yfiles_jupyter_graphs) (2.16.1)\n",
            "Requirement already satisfied: backcall in /usr/local/lib/python3.10/dist-packages (from ipython>=6.1.0->ipywidgets>=8.0.0->yfiles_jupyter_graphs) (0.2.0)\n",
            "Requirement already satisfied: matplotlib-inline in /usr/local/lib/python3.10/dist-packages (from ipython>=6.1.0->ipywidgets>=8.0.0->yfiles_jupyter_graphs) (0.1.7)\n",
            "Requirement already satisfied: pexpect>4.3 in /usr/local/lib/python3.10/dist-packages (from ipython>=6.1.0->ipywidgets>=8.0.0->yfiles_jupyter_graphs) (4.9.0)\n",
            "Requirement already satisfied: parso<0.9.0,>=0.8.3 in /usr/local/lib/python3.10/dist-packages (from jedi>=0.16->ipython>=6.1.0->ipywidgets>=8.0.0->yfiles_jupyter_graphs) (0.8.4)\n",
            "Requirement already satisfied: ptyprocess>=0.5 in /usr/local/lib/python3.10/dist-packages (from pexpect>4.3->ipython>=6.1.0->ipywidgets>=8.0.0->yfiles_jupyter_graphs) (0.7.0)\n",
            "Requirement already satisfied: wcwidth in /usr/local/lib/python3.10/dist-packages (from prompt-toolkit!=3.0.0,!=3.0.1,<3.1.0,>=2.0.0->ipython>=6.1.0->ipywidgets>=8.0.0->yfiles_jupyter_graphs) (0.2.13)\n",
            "Downloading yfiles_jupyter_graphs-1.8.1-py3-none-any.whl (15.6 MB)\n",
            "\u001b[2K   \u001b[90m━━━━━━━━━━━━━━━━━━━━━━━━━━━━━━━━━━━━━━━━\u001b[0m \u001b[32m15.6/15.6 MB\u001b[0m \u001b[31m86.5 MB/s\u001b[0m eta \u001b[36m0:00:00\u001b[0m\n",
            "\u001b[?25hDownloading ipywidgets-8.1.5-py3-none-any.whl (139 kB)\n",
            "\u001b[2K   \u001b[90m━━━━━━━━━━━━━━━━━━━━━━━━━━━━━━━━━━━━━━━━\u001b[0m \u001b[32m139.8/139.8 kB\u001b[0m \u001b[31m13.2 MB/s\u001b[0m eta \u001b[36m0:00:00\u001b[0m\n",
            "\u001b[?25hDownloading comm-0.2.2-py3-none-any.whl (7.2 kB)\n",
            "Downloading widgetsnbextension-4.0.13-py3-none-any.whl (2.3 MB)\n",
            "\u001b[2K   \u001b[90m━━━━━━━━━━━━━━━━━━━━━━━━━━━━━━━━━━━━━━━━\u001b[0m \u001b[32m2.3/2.3 MB\u001b[0m \u001b[31m73.7 MB/s\u001b[0m eta \u001b[36m0:00:00\u001b[0m\n",
            "\u001b[?25hUsing cached jedi-0.19.1-py2.py3-none-any.whl (1.6 MB)\n",
            "Installing collected packages: widgetsnbextension, jedi, comm, ipywidgets, yfiles_jupyter_graphs\n",
            "  Attempting uninstall: widgetsnbextension\n",
            "    Found existing installation: widgetsnbextension 3.6.8\n",
            "    Uninstalling widgetsnbextension-3.6.8:\n",
            "      Successfully uninstalled widgetsnbextension-3.6.8\n",
            "  Attempting uninstall: ipywidgets\n",
            "    Found existing installation: ipywidgets 7.7.1\n",
            "    Uninstalling ipywidgets-7.7.1:\n",
            "      Successfully uninstalled ipywidgets-7.7.1\n",
            "Successfully installed comm-0.2.2 ipywidgets-8.1.5 jedi-0.19.1 widgetsnbextension-4.0.13 yfiles_jupyter_graphs-1.8.1\n"
          ]
        }
      ]
    },
    {
      "cell_type": "code",
      "source": [
        "# For creating a session and displaying the Graph in the notebook itself\n",
        "\n",
        "from neo4j import GraphDatabase\n",
        "from yfiles_jupyter_graphs import GraphWidget"
      ],
      "metadata": {
        "id": "kU2yXeYFw-Bl"
      },
      "execution_count": 59,
      "outputs": []
    },
    {
      "cell_type": "code",
      "source": [
        "#Support for third party widgets (widgets outside of the ipywidgets package) needs to be enabled separately. Support for these widgets will be loaded from a CDN external from Colab.\n",
        "from google.colab import output\n",
        "output.enable_custom_widget_manager()"
      ],
      "metadata": {
        "id": "KUJscHc0x3P8"
      },
      "execution_count": 65,
      "outputs": []
    },
    {
      "cell_type": "code",
      "source": [
        "# directly show the graph resulting from the given Cypher query\n",
        "default_cypher = \"MATCH (s)-[r:!MENTIONS]->(t) RETURN s,r,t LIMIT 50\"\n",
        "\n",
        "def showGraph(cypher: str = default_cypher):\n",
        "    # create a neo4j session to run queries\n",
        "    driver = GraphDatabase.driver(\n",
        "        uri = os.environ[\"NEO4J_URI\"],\n",
        "        auth = (os.environ[\"NEO4J_USERNAME\"],\n",
        "                os.environ[\"NEO4J_PASSWORD\"]))\n",
        "    session = driver.session()\n",
        "    widget = GraphWidget(graph = session.run(cypher).graph())\n",
        "    widget.node_label_mapping = 'id'\n",
        "    #display(widget)\n",
        "    return widget\n",
        "\n",
        "showGraph()"
      ],
      "metadata": {
        "colab": {
          "base_uri": "https://localhost:8080/",
          "height": 817,
          "referenced_widgets": [
            "74b0b19176d849498c5271af7eaceb9a",
            "299703172c264b789a8279c81cb32d78"
          ]
        },
        "id": "5RY74biHvx2Z",
        "outputId": "be98be0f-f019-4b2f-c477-f2be524e2066"
      },
      "execution_count": 66,
      "outputs": [
        {
          "output_type": "display_data",
          "data": {
            "text/plain": [
              "GraphWidget(layout=Layout(height='800px', width='100%'))"
            ],
            "application/vnd.jupyter.widget-view+json": {
              "version_major": 2,
              "version_minor": 0,
              "model_id": "74b0b19176d849498c5271af7eaceb9a"
            }
          },
          "metadata": {
            "application/vnd.jupyter.widget-view+json": {
              "colab": {
                "custom_widget_manager": {
                  "url": "https://ssl.gstatic.com/colaboratory-static/widgets/colab-cdn-widget-manager/2b70e893a8ba7c0f/manager.min.js"
                }
              }
            }
          }
        }
      ]
    },
    {
      "cell_type": "code",
      "source": [],
      "metadata": {
        "id": "9XNGtw7XxfZ2"
      },
      "execution_count": 71,
      "outputs": []
    },
    {
      "cell_type": "code",
      "source": [],
      "metadata": {
        "id": "A6tm97jWxrkx"
      },
      "execution_count": 70,
      "outputs": []
    },
    {
      "cell_type": "code",
      "source": [],
      "metadata": {
        "id": "u6ivlih0xrlC"
      },
      "execution_count": 71,
      "outputs": []
    },
    {
      "cell_type": "code",
      "source": [],
      "metadata": {
        "id": "qL67Xjh4xtZF"
      },
      "execution_count": null,
      "outputs": []
    }
  ]
}